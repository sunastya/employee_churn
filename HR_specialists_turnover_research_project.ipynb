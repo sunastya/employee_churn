{
  "nbformat": 4,
  "nbformat_minor": 0,
  "metadata": {
    "colab": {
      "name": "HR-specialists turnover - research project.ipynb",
      "provenance": [],
      "collapsed_sections": []
    },
    "kernelspec": {
      "name": "python3",
      "display_name": "Python 3"
    },
    "language_info": {
      "name": "python"
    }
  },
  "cells": [
    {
      "cell_type": "code",
      "execution_count": 249,
      "metadata": {
        "id": "beNc-LSpXI-L"
      },
      "outputs": [],
      "source": [
        "# the importing of modules\n",
        "import numpy as np\n",
        "import pandas as pd\n",
        "import matplotlib.pyplot as plt\n",
        "import seaborn as sns\n",
        "from sklearn.model_selection import train_test_split\n",
        "from statsmodels.discrete.discrete_model import Logit\n",
        "from statsmodels.tools import add_constant\n",
        "import statsmodels.api as sm\n",
        "from sklearn.linear_model import LogisticRegression\n",
        "from sklearn import metrics\n",
        "import warnings"
      ]
    },
    {
      "cell_type": "markdown",
      "source": [
        "This study is devoted to the topic of **employee turnover**. For this work, we turned to the dataset published on [Kaggle](https://www.kaggle.com/datasets/lnvardanyan/hr-analytics), which contains HR analytics. Let's download the dataset and take a look at it in more detail."
      ],
      "metadata": {
        "id": "buKovXb7tCsr"
      }
    },
    {
      "cell_type": "code",
      "source": [
        "# downloading the dataset with HR-analytics\n",
        "df = pd.read_csv('https://raw.githubusercontent.com/sunastya/employee_churn/main/turnover.csv', encoding = \"ISO-8859-1\").dropna(axis=1, how='all')\n",
        "# let's look at the dataset\n",
        "df = df.reset_index().set_index(['index'])\n",
        "df.head(10)"
      ],
      "metadata": {
        "id": "23ptA6NbXvIm",
        "colab": {
          "base_uri": "https://localhost:8080/",
          "height": 394
        },
        "outputId": "79020913-0b02-4b1f-936c-a1f587d15a28"
      },
      "execution_count": 250,
      "outputs": [
        {
          "output_type": "execute_result",
          "data": {
            "text/plain": [
              "       satisfaction_level  last_evaluation  number_project  \\\n",
              "index                                                        \n",
              "0                    0.38             0.53               2   \n",
              "1                    0.80             0.86               5   \n",
              "2                    0.11             0.88               7   \n",
              "3                    0.72             0.87               5   \n",
              "4                    0.37             0.52               2   \n",
              "5                    0.41             0.50               2   \n",
              "6                    0.10             0.77               6   \n",
              "7                    0.92             0.85               5   \n",
              "8                    0.89             1.00               5   \n",
              "9                    0.42             0.53               2   \n",
              "\n",
              "       average_montly_hours  time_spend_company  Work_accident  left  \\\n",
              "index                                                                  \n",
              "0                       157                   3              0     1   \n",
              "1                       262                   6              0     1   \n",
              "2                       272                   4              0     1   \n",
              "3                       223                   5              0     1   \n",
              "4                       159                   3              0     1   \n",
              "5                       153                   3              0     1   \n",
              "6                       247                   4              0     1   \n",
              "7                       259                   5              0     1   \n",
              "8                       224                   5              0     1   \n",
              "9                       142                   3              0     1   \n",
              "\n",
              "       promotion_last_5years  sales  salary  \n",
              "index                                        \n",
              "0                          0  sales     low  \n",
              "1                          0  sales  medium  \n",
              "2                          0  sales  medium  \n",
              "3                          0  sales     low  \n",
              "4                          0  sales     low  \n",
              "5                          0  sales     low  \n",
              "6                          0  sales     low  \n",
              "7                          0  sales     low  \n",
              "8                          0  sales     low  \n",
              "9                          0  sales     low  "
            ],
            "text/html": [
              "\n",
              "  <div id=\"df-7a752adf-daa6-41d3-8461-965f8af99526\">\n",
              "    <div class=\"colab-df-container\">\n",
              "      <div>\n",
              "<style scoped>\n",
              "    .dataframe tbody tr th:only-of-type {\n",
              "        vertical-align: middle;\n",
              "    }\n",
              "\n",
              "    .dataframe tbody tr th {\n",
              "        vertical-align: top;\n",
              "    }\n",
              "\n",
              "    .dataframe thead th {\n",
              "        text-align: right;\n",
              "    }\n",
              "</style>\n",
              "<table border=\"1\" class=\"dataframe\">\n",
              "  <thead>\n",
              "    <tr style=\"text-align: right;\">\n",
              "      <th></th>\n",
              "      <th>satisfaction_level</th>\n",
              "      <th>last_evaluation</th>\n",
              "      <th>number_project</th>\n",
              "      <th>average_montly_hours</th>\n",
              "      <th>time_spend_company</th>\n",
              "      <th>Work_accident</th>\n",
              "      <th>left</th>\n",
              "      <th>promotion_last_5years</th>\n",
              "      <th>sales</th>\n",
              "      <th>salary</th>\n",
              "    </tr>\n",
              "    <tr>\n",
              "      <th>index</th>\n",
              "      <th></th>\n",
              "      <th></th>\n",
              "      <th></th>\n",
              "      <th></th>\n",
              "      <th></th>\n",
              "      <th></th>\n",
              "      <th></th>\n",
              "      <th></th>\n",
              "      <th></th>\n",
              "      <th></th>\n",
              "    </tr>\n",
              "  </thead>\n",
              "  <tbody>\n",
              "    <tr>\n",
              "      <th>0</th>\n",
              "      <td>0.38</td>\n",
              "      <td>0.53</td>\n",
              "      <td>2</td>\n",
              "      <td>157</td>\n",
              "      <td>3</td>\n",
              "      <td>0</td>\n",
              "      <td>1</td>\n",
              "      <td>0</td>\n",
              "      <td>sales</td>\n",
              "      <td>low</td>\n",
              "    </tr>\n",
              "    <tr>\n",
              "      <th>1</th>\n",
              "      <td>0.80</td>\n",
              "      <td>0.86</td>\n",
              "      <td>5</td>\n",
              "      <td>262</td>\n",
              "      <td>6</td>\n",
              "      <td>0</td>\n",
              "      <td>1</td>\n",
              "      <td>0</td>\n",
              "      <td>sales</td>\n",
              "      <td>medium</td>\n",
              "    </tr>\n",
              "    <tr>\n",
              "      <th>2</th>\n",
              "      <td>0.11</td>\n",
              "      <td>0.88</td>\n",
              "      <td>7</td>\n",
              "      <td>272</td>\n",
              "      <td>4</td>\n",
              "      <td>0</td>\n",
              "      <td>1</td>\n",
              "      <td>0</td>\n",
              "      <td>sales</td>\n",
              "      <td>medium</td>\n",
              "    </tr>\n",
              "    <tr>\n",
              "      <th>3</th>\n",
              "      <td>0.72</td>\n",
              "      <td>0.87</td>\n",
              "      <td>5</td>\n",
              "      <td>223</td>\n",
              "      <td>5</td>\n",
              "      <td>0</td>\n",
              "      <td>1</td>\n",
              "      <td>0</td>\n",
              "      <td>sales</td>\n",
              "      <td>low</td>\n",
              "    </tr>\n",
              "    <tr>\n",
              "      <th>4</th>\n",
              "      <td>0.37</td>\n",
              "      <td>0.52</td>\n",
              "      <td>2</td>\n",
              "      <td>159</td>\n",
              "      <td>3</td>\n",
              "      <td>0</td>\n",
              "      <td>1</td>\n",
              "      <td>0</td>\n",
              "      <td>sales</td>\n",
              "      <td>low</td>\n",
              "    </tr>\n",
              "    <tr>\n",
              "      <th>5</th>\n",
              "      <td>0.41</td>\n",
              "      <td>0.50</td>\n",
              "      <td>2</td>\n",
              "      <td>153</td>\n",
              "      <td>3</td>\n",
              "      <td>0</td>\n",
              "      <td>1</td>\n",
              "      <td>0</td>\n",
              "      <td>sales</td>\n",
              "      <td>low</td>\n",
              "    </tr>\n",
              "    <tr>\n",
              "      <th>6</th>\n",
              "      <td>0.10</td>\n",
              "      <td>0.77</td>\n",
              "      <td>6</td>\n",
              "      <td>247</td>\n",
              "      <td>4</td>\n",
              "      <td>0</td>\n",
              "      <td>1</td>\n",
              "      <td>0</td>\n",
              "      <td>sales</td>\n",
              "      <td>low</td>\n",
              "    </tr>\n",
              "    <tr>\n",
              "      <th>7</th>\n",
              "      <td>0.92</td>\n",
              "      <td>0.85</td>\n",
              "      <td>5</td>\n",
              "      <td>259</td>\n",
              "      <td>5</td>\n",
              "      <td>0</td>\n",
              "      <td>1</td>\n",
              "      <td>0</td>\n",
              "      <td>sales</td>\n",
              "      <td>low</td>\n",
              "    </tr>\n",
              "    <tr>\n",
              "      <th>8</th>\n",
              "      <td>0.89</td>\n",
              "      <td>1.00</td>\n",
              "      <td>5</td>\n",
              "      <td>224</td>\n",
              "      <td>5</td>\n",
              "      <td>0</td>\n",
              "      <td>1</td>\n",
              "      <td>0</td>\n",
              "      <td>sales</td>\n",
              "      <td>low</td>\n",
              "    </tr>\n",
              "    <tr>\n",
              "      <th>9</th>\n",
              "      <td>0.42</td>\n",
              "      <td>0.53</td>\n",
              "      <td>2</td>\n",
              "      <td>142</td>\n",
              "      <td>3</td>\n",
              "      <td>0</td>\n",
              "      <td>1</td>\n",
              "      <td>0</td>\n",
              "      <td>sales</td>\n",
              "      <td>low</td>\n",
              "    </tr>\n",
              "  </tbody>\n",
              "</table>\n",
              "</div>\n",
              "      <button class=\"colab-df-convert\" onclick=\"convertToInteractive('df-7a752adf-daa6-41d3-8461-965f8af99526')\"\n",
              "              title=\"Convert this dataframe to an interactive table.\"\n",
              "              style=\"display:none;\">\n",
              "        \n",
              "  <svg xmlns=\"http://www.w3.org/2000/svg\" height=\"24px\"viewBox=\"0 0 24 24\"\n",
              "       width=\"24px\">\n",
              "    <path d=\"M0 0h24v24H0V0z\" fill=\"none\"/>\n",
              "    <path d=\"M18.56 5.44l.94 2.06.94-2.06 2.06-.94-2.06-.94-.94-2.06-.94 2.06-2.06.94zm-11 1L8.5 8.5l.94-2.06 2.06-.94-2.06-.94L8.5 2.5l-.94 2.06-2.06.94zm10 10l.94 2.06.94-2.06 2.06-.94-2.06-.94-.94-2.06-.94 2.06-2.06.94z\"/><path d=\"M17.41 7.96l-1.37-1.37c-.4-.4-.92-.59-1.43-.59-.52 0-1.04.2-1.43.59L10.3 9.45l-7.72 7.72c-.78.78-.78 2.05 0 2.83L4 21.41c.39.39.9.59 1.41.59.51 0 1.02-.2 1.41-.59l7.78-7.78 2.81-2.81c.8-.78.8-2.07 0-2.86zM5.41 20L4 18.59l7.72-7.72 1.47 1.35L5.41 20z\"/>\n",
              "  </svg>\n",
              "      </button>\n",
              "      \n",
              "  <style>\n",
              "    .colab-df-container {\n",
              "      display:flex;\n",
              "      flex-wrap:wrap;\n",
              "      gap: 12px;\n",
              "    }\n",
              "\n",
              "    .colab-df-convert {\n",
              "      background-color: #E8F0FE;\n",
              "      border: none;\n",
              "      border-radius: 50%;\n",
              "      cursor: pointer;\n",
              "      display: none;\n",
              "      fill: #1967D2;\n",
              "      height: 32px;\n",
              "      padding: 0 0 0 0;\n",
              "      width: 32px;\n",
              "    }\n",
              "\n",
              "    .colab-df-convert:hover {\n",
              "      background-color: #E2EBFA;\n",
              "      box-shadow: 0px 1px 2px rgba(60, 64, 67, 0.3), 0px 1px 3px 1px rgba(60, 64, 67, 0.15);\n",
              "      fill: #174EA6;\n",
              "    }\n",
              "\n",
              "    [theme=dark] .colab-df-convert {\n",
              "      background-color: #3B4455;\n",
              "      fill: #D2E3FC;\n",
              "    }\n",
              "\n",
              "    [theme=dark] .colab-df-convert:hover {\n",
              "      background-color: #434B5C;\n",
              "      box-shadow: 0px 1px 3px 1px rgba(0, 0, 0, 0.15);\n",
              "      filter: drop-shadow(0px 1px 2px rgba(0, 0, 0, 0.3));\n",
              "      fill: #FFFFFF;\n",
              "    }\n",
              "  </style>\n",
              "\n",
              "      <script>\n",
              "        const buttonEl =\n",
              "          document.querySelector('#df-7a752adf-daa6-41d3-8461-965f8af99526 button.colab-df-convert');\n",
              "        buttonEl.style.display =\n",
              "          google.colab.kernel.accessAllowed ? 'block' : 'none';\n",
              "\n",
              "        async function convertToInteractive(key) {\n",
              "          const element = document.querySelector('#df-7a752adf-daa6-41d3-8461-965f8af99526');\n",
              "          const dataTable =\n",
              "            await google.colab.kernel.invokeFunction('convertToInteractive',\n",
              "                                                     [key], {});\n",
              "          if (!dataTable) return;\n",
              "\n",
              "          const docLinkHtml = 'Like what you see? Visit the ' +\n",
              "            '<a target=\"_blank\" href=https://colab.research.google.com/notebooks/data_table.ipynb>data table notebook</a>'\n",
              "            + ' to learn more about interactive tables.';\n",
              "          element.innerHTML = '';\n",
              "          dataTable['output_type'] = 'display_data';\n",
              "          await google.colab.output.renderOutput(dataTable, element);\n",
              "          const docLink = document.createElement('div');\n",
              "          docLink.innerHTML = docLinkHtml;\n",
              "          element.appendChild(docLink);\n",
              "        }\n",
              "      </script>\n",
              "    </div>\n",
              "  </div>\n",
              "  "
            ]
          },
          "metadata": {},
          "execution_count": 250
        }
      ]
    },
    {
      "cell_type": "markdown",
      "source": [
        "Here we can see the data which are contained in the dataset and its types:"
      ],
      "metadata": {
        "id": "FTARcYtQvA_j"
      }
    },
    {
      "cell_type": "code",
      "source": [
        "df.dtypes"
      ],
      "metadata": {
        "colab": {
          "base_uri": "https://localhost:8080/"
        },
        "id": "3RWsPfo5o5Bi",
        "outputId": "efc8a094-797f-4d59-b0f7-4840f5a75bac"
      },
      "execution_count": 251,
      "outputs": [
        {
          "output_type": "execute_result",
          "data": {
            "text/plain": [
              "satisfaction_level       float64\n",
              "last_evaluation          float64\n",
              "number_project             int64\n",
              "average_montly_hours       int64\n",
              "time_spend_company         int64\n",
              "Work_accident              int64\n",
              "left                       int64\n",
              "promotion_last_5years      int64\n",
              "sales                     object\n",
              "salary                    object\n",
              "dtype: object"
            ]
          },
          "metadata": {},
          "execution_count": 251
        }
      ]
    },
    {
      "cell_type": "markdown",
      "source": [
        "If we do not take into account the index column, then we have **10 columns** containing useful HR information. **8 out of 10** are **numeric**, while **2** *(\"sales\" and \"salary\")* are **qualitative variables**. This is important to take into account in the subsequent analysis.\n",
        "\n",
        "Now let's take a look at **descriptive statistics**:"
      ],
      "metadata": {
        "id": "cHnFGCT3vSIE"
      }
    },
    {
      "cell_type": "code",
      "source": [
        "df.describe()"
      ],
      "metadata": {
        "colab": {
          "base_uri": "https://localhost:8080/",
          "height": 300
        },
        "id": "fq39l6xWpoWc",
        "outputId": "9e54468f-0b76-444c-ef9f-490d0f164c83"
      },
      "execution_count": 252,
      "outputs": [
        {
          "output_type": "execute_result",
          "data": {
            "text/plain": [
              "       satisfaction_level  last_evaluation  number_project  \\\n",
              "count        14999.000000     14999.000000    14999.000000   \n",
              "mean             0.612834         0.716102        3.803054   \n",
              "std              0.248631         0.171169        1.232592   \n",
              "min              0.090000         0.360000        2.000000   \n",
              "25%              0.440000         0.560000        3.000000   \n",
              "50%              0.640000         0.720000        4.000000   \n",
              "75%              0.820000         0.870000        5.000000   \n",
              "max              1.000000         1.000000        7.000000   \n",
              "\n",
              "       average_montly_hours  time_spend_company  Work_accident          left  \\\n",
              "count          14999.000000        14999.000000   14999.000000  14999.000000   \n",
              "mean             201.050337            3.498233       0.144610      0.238083   \n",
              "std               49.943099            1.460136       0.351719      0.425924   \n",
              "min               96.000000            2.000000       0.000000      0.000000   \n",
              "25%              156.000000            3.000000       0.000000      0.000000   \n",
              "50%              200.000000            3.000000       0.000000      0.000000   \n",
              "75%              245.000000            4.000000       0.000000      0.000000   \n",
              "max              310.000000           10.000000       1.000000      1.000000   \n",
              "\n",
              "       promotion_last_5years  \n",
              "count           14999.000000  \n",
              "mean                0.021268  \n",
              "std                 0.144281  \n",
              "min                 0.000000  \n",
              "25%                 0.000000  \n",
              "50%                 0.000000  \n",
              "75%                 0.000000  \n",
              "max                 1.000000  "
            ],
            "text/html": [
              "\n",
              "  <div id=\"df-635f26a4-13bf-4a8d-8939-3bc887797ed6\">\n",
              "    <div class=\"colab-df-container\">\n",
              "      <div>\n",
              "<style scoped>\n",
              "    .dataframe tbody tr th:only-of-type {\n",
              "        vertical-align: middle;\n",
              "    }\n",
              "\n",
              "    .dataframe tbody tr th {\n",
              "        vertical-align: top;\n",
              "    }\n",
              "\n",
              "    .dataframe thead th {\n",
              "        text-align: right;\n",
              "    }\n",
              "</style>\n",
              "<table border=\"1\" class=\"dataframe\">\n",
              "  <thead>\n",
              "    <tr style=\"text-align: right;\">\n",
              "      <th></th>\n",
              "      <th>satisfaction_level</th>\n",
              "      <th>last_evaluation</th>\n",
              "      <th>number_project</th>\n",
              "      <th>average_montly_hours</th>\n",
              "      <th>time_spend_company</th>\n",
              "      <th>Work_accident</th>\n",
              "      <th>left</th>\n",
              "      <th>promotion_last_5years</th>\n",
              "    </tr>\n",
              "  </thead>\n",
              "  <tbody>\n",
              "    <tr>\n",
              "      <th>count</th>\n",
              "      <td>14999.000000</td>\n",
              "      <td>14999.000000</td>\n",
              "      <td>14999.000000</td>\n",
              "      <td>14999.000000</td>\n",
              "      <td>14999.000000</td>\n",
              "      <td>14999.000000</td>\n",
              "      <td>14999.000000</td>\n",
              "      <td>14999.000000</td>\n",
              "    </tr>\n",
              "    <tr>\n",
              "      <th>mean</th>\n",
              "      <td>0.612834</td>\n",
              "      <td>0.716102</td>\n",
              "      <td>3.803054</td>\n",
              "      <td>201.050337</td>\n",
              "      <td>3.498233</td>\n",
              "      <td>0.144610</td>\n",
              "      <td>0.238083</td>\n",
              "      <td>0.021268</td>\n",
              "    </tr>\n",
              "    <tr>\n",
              "      <th>std</th>\n",
              "      <td>0.248631</td>\n",
              "      <td>0.171169</td>\n",
              "      <td>1.232592</td>\n",
              "      <td>49.943099</td>\n",
              "      <td>1.460136</td>\n",
              "      <td>0.351719</td>\n",
              "      <td>0.425924</td>\n",
              "      <td>0.144281</td>\n",
              "    </tr>\n",
              "    <tr>\n",
              "      <th>min</th>\n",
              "      <td>0.090000</td>\n",
              "      <td>0.360000</td>\n",
              "      <td>2.000000</td>\n",
              "      <td>96.000000</td>\n",
              "      <td>2.000000</td>\n",
              "      <td>0.000000</td>\n",
              "      <td>0.000000</td>\n",
              "      <td>0.000000</td>\n",
              "    </tr>\n",
              "    <tr>\n",
              "      <th>25%</th>\n",
              "      <td>0.440000</td>\n",
              "      <td>0.560000</td>\n",
              "      <td>3.000000</td>\n",
              "      <td>156.000000</td>\n",
              "      <td>3.000000</td>\n",
              "      <td>0.000000</td>\n",
              "      <td>0.000000</td>\n",
              "      <td>0.000000</td>\n",
              "    </tr>\n",
              "    <tr>\n",
              "      <th>50%</th>\n",
              "      <td>0.640000</td>\n",
              "      <td>0.720000</td>\n",
              "      <td>4.000000</td>\n",
              "      <td>200.000000</td>\n",
              "      <td>3.000000</td>\n",
              "      <td>0.000000</td>\n",
              "      <td>0.000000</td>\n",
              "      <td>0.000000</td>\n",
              "    </tr>\n",
              "    <tr>\n",
              "      <th>75%</th>\n",
              "      <td>0.820000</td>\n",
              "      <td>0.870000</td>\n",
              "      <td>5.000000</td>\n",
              "      <td>245.000000</td>\n",
              "      <td>4.000000</td>\n",
              "      <td>0.000000</td>\n",
              "      <td>0.000000</td>\n",
              "      <td>0.000000</td>\n",
              "    </tr>\n",
              "    <tr>\n",
              "      <th>max</th>\n",
              "      <td>1.000000</td>\n",
              "      <td>1.000000</td>\n",
              "      <td>7.000000</td>\n",
              "      <td>310.000000</td>\n",
              "      <td>10.000000</td>\n",
              "      <td>1.000000</td>\n",
              "      <td>1.000000</td>\n",
              "      <td>1.000000</td>\n",
              "    </tr>\n",
              "  </tbody>\n",
              "</table>\n",
              "</div>\n",
              "      <button class=\"colab-df-convert\" onclick=\"convertToInteractive('df-635f26a4-13bf-4a8d-8939-3bc887797ed6')\"\n",
              "              title=\"Convert this dataframe to an interactive table.\"\n",
              "              style=\"display:none;\">\n",
              "        \n",
              "  <svg xmlns=\"http://www.w3.org/2000/svg\" height=\"24px\"viewBox=\"0 0 24 24\"\n",
              "       width=\"24px\">\n",
              "    <path d=\"M0 0h24v24H0V0z\" fill=\"none\"/>\n",
              "    <path d=\"M18.56 5.44l.94 2.06.94-2.06 2.06-.94-2.06-.94-.94-2.06-.94 2.06-2.06.94zm-11 1L8.5 8.5l.94-2.06 2.06-.94-2.06-.94L8.5 2.5l-.94 2.06-2.06.94zm10 10l.94 2.06.94-2.06 2.06-.94-2.06-.94-.94-2.06-.94 2.06-2.06.94z\"/><path d=\"M17.41 7.96l-1.37-1.37c-.4-.4-.92-.59-1.43-.59-.52 0-1.04.2-1.43.59L10.3 9.45l-7.72 7.72c-.78.78-.78 2.05 0 2.83L4 21.41c.39.39.9.59 1.41.59.51 0 1.02-.2 1.41-.59l7.78-7.78 2.81-2.81c.8-.78.8-2.07 0-2.86zM5.41 20L4 18.59l7.72-7.72 1.47 1.35L5.41 20z\"/>\n",
              "  </svg>\n",
              "      </button>\n",
              "      \n",
              "  <style>\n",
              "    .colab-df-container {\n",
              "      display:flex;\n",
              "      flex-wrap:wrap;\n",
              "      gap: 12px;\n",
              "    }\n",
              "\n",
              "    .colab-df-convert {\n",
              "      background-color: #E8F0FE;\n",
              "      border: none;\n",
              "      border-radius: 50%;\n",
              "      cursor: pointer;\n",
              "      display: none;\n",
              "      fill: #1967D2;\n",
              "      height: 32px;\n",
              "      padding: 0 0 0 0;\n",
              "      width: 32px;\n",
              "    }\n",
              "\n",
              "    .colab-df-convert:hover {\n",
              "      background-color: #E2EBFA;\n",
              "      box-shadow: 0px 1px 2px rgba(60, 64, 67, 0.3), 0px 1px 3px 1px rgba(60, 64, 67, 0.15);\n",
              "      fill: #174EA6;\n",
              "    }\n",
              "\n",
              "    [theme=dark] .colab-df-convert {\n",
              "      background-color: #3B4455;\n",
              "      fill: #D2E3FC;\n",
              "    }\n",
              "\n",
              "    [theme=dark] .colab-df-convert:hover {\n",
              "      background-color: #434B5C;\n",
              "      box-shadow: 0px 1px 3px 1px rgba(0, 0, 0, 0.15);\n",
              "      filter: drop-shadow(0px 1px 2px rgba(0, 0, 0, 0.3));\n",
              "      fill: #FFFFFF;\n",
              "    }\n",
              "  </style>\n",
              "\n",
              "      <script>\n",
              "        const buttonEl =\n",
              "          document.querySelector('#df-635f26a4-13bf-4a8d-8939-3bc887797ed6 button.colab-df-convert');\n",
              "        buttonEl.style.display =\n",
              "          google.colab.kernel.accessAllowed ? 'block' : 'none';\n",
              "\n",
              "        async function convertToInteractive(key) {\n",
              "          const element = document.querySelector('#df-635f26a4-13bf-4a8d-8939-3bc887797ed6');\n",
              "          const dataTable =\n",
              "            await google.colab.kernel.invokeFunction('convertToInteractive',\n",
              "                                                     [key], {});\n",
              "          if (!dataTable) return;\n",
              "\n",
              "          const docLinkHtml = 'Like what you see? Visit the ' +\n",
              "            '<a target=\"_blank\" href=https://colab.research.google.com/notebooks/data_table.ipynb>data table notebook</a>'\n",
              "            + ' to learn more about interactive tables.';\n",
              "          element.innerHTML = '';\n",
              "          dataTable['output_type'] = 'display_data';\n",
              "          await google.colab.output.renderOutput(dataTable, element);\n",
              "          const docLink = document.createElement('div');\n",
              "          docLink.innerHTML = docLinkHtml;\n",
              "          element.appendChild(docLink);\n",
              "        }\n",
              "      </script>\n",
              "    </div>\n",
              "  </div>\n",
              "  "
            ]
          },
          "metadata": {},
          "execution_count": 252
        }
      ]
    },
    {
      "cell_type": "markdown",
      "source": [
        "Now let's see what **categories** are contained in cells with qualitative information:"
      ],
      "metadata": {
        "id": "RTbvcAWK0HZQ"
      }
    },
    {
      "cell_type": "code",
      "source": [
        "print(df.sales.unique())\n",
        "print(df.salary.unique())"
      ],
      "metadata": {
        "colab": {
          "base_uri": "https://localhost:8080/"
        },
        "id": "KNUFaF5tz5Q-",
        "outputId": "ced7b39b-62be-4228-9cde-118d65b4ae2e"
      },
      "execution_count": 253,
      "outputs": [
        {
          "output_type": "stream",
          "name": "stdout",
          "text": [
            "['sales' 'accounting' 'hr' 'technical' 'support' 'management' 'IT'\n",
            " 'product_mng' 'marketing' 'RandD']\n",
            "['low' 'medium' 'high']\n"
          ]
        }
      ]
    },
    {
      "cell_type": "markdown",
      "source": [
        "We can say that we have a lot observations: ***14999***. Variables such as satisfaction_level, last_evaluation are indicators in the range *from 0 to 1*. number_project, average_montly_hours, time_spend_company are *integer data*. Work_accident, left, promotion_last_5years -- *dummy variables*. After viewing the dataset and its descriptive statistics, we can say what data we are working with:\n",
        "\n",
        "\n",
        "*   **satisfaction_level** -- employee satisfaction level *(from 0 to 1)*\n",
        "*   **last_evaluation** -- employee's last assessment *(from 0 to 1)*\n",
        "*   **number_project** -- the number of projects an employee is working on\n",
        "*   **average_montly_hours** -- average number of working hours per month, shows the employee's work schedule and workload\n",
        "*   **time_spend_company** -- how long the employee is in the company\n",
        "*   **Work_accident** -- presence of incidents at work *(0 - no; 1 - yes)*\n",
        "*   **left** -- whether the employee left the company *(0 - no; 1 - yes)*\n",
        "*   **promotion_last_5years** -- whether the employee had a promotion in the last 5 years *(0 - no; 1 - yes)*\n",
        "*   **sales** -- department in which the employee works\n",
        "*   **salary** -- salary level *(low, medium, high)*"
      ],
      "metadata": {
        "id": "8NEtj4Urxh4b"
      }
    },
    {
      "cell_type": "markdown",
      "source": [
        "Now we offer you to see how the level of staff turnover differs in different departments"
      ],
      "metadata": {
        "id": "9uLqILV90j0j"
      }
    },
    {
      "cell_type": "code",
      "source": [
        "turnover_sum = pd.pivot_table(df, index=['sales'], columns=['left'], values=['satisfaction_level'], aggfunc='count')\n",
        "plt.figure()\n",
        "turnover_sum.plot.bar(title='Fig.No. 1: EMPLOYEES TURNOVER BY DEPARTMENTS', stacked=True, color = ['skyblue', 'salmon'])\n",
        "plt.xlabel('Department')\n",
        "plt.ylabel('No.of Employees')\n",
        "plt.legend(['Stayed', 'Left'], loc='upper left')\n",
        "warnings.filterwarnings(\"ignore\")"
      ],
      "metadata": {
        "colab": {
          "base_uri": "https://localhost:8080/",
          "height": 371
        },
        "id": "Hh6Id2TkAIhb",
        "outputId": "766f98f0-abb5-4be0-cf7d-aaca70e0665e"
      },
      "execution_count": 254,
      "outputs": [
        {
          "output_type": "display_data",
          "data": {
            "text/plain": [
              "<Figure size 432x288 with 0 Axes>"
            ]
          },
          "metadata": {}
        },
        {
          "output_type": "display_data",
          "data": {
            "text/plain": [
              "<Figure size 432x288 with 1 Axes>"
            ],
            "image/png": "[encoded data removed]"
          },
          "metadata": {
            "needs_background": "light"
          }
        }
      ]
    },
    {
      "cell_type": "markdown",
      "source": [
        "We can notice that we have a different number of observations for different departments. Nevertheless, it is important to understand the ratio of those who left and those who remained in each of the departments, because this may be a *signal of some problems in the teams*."
      ],
      "metadata": {
        "id": "k1sEqDPb0ucA"
      }
    },
    {
      "cell_type": "code",
      "source": [
        "turnover_sum = turnover_sum.div(turnover_sum.sum(1).astype(float), axis=0)\n",
        "\n",
        "plt.figure()\n",
        "(turnover_sum*100).plot.bar(title='Fig.No. 2: EMPLOYEES TURNOVER BY DEPARTMENTS, %', stacked=True, color = ['skyblue', 'salmon'])\n",
        "plt.xlabel('Departments')\n",
        "plt.ylabel('Employees %')\n",
        "plt.legend(['Stayed', 'Left'], loc='lower right')"
      ],
      "metadata": {
        "colab": {
          "base_uri": "https://localhost:8080/",
          "height": 388
        },
        "id": "oTo6Apn5fxNv",
        "outputId": "76e88315-9128-4deb-b51f-23cb8d452ed6"
      },
      "execution_count": 255,
      "outputs": [
        {
          "output_type": "execute_result",
          "data": {
            "text/plain": [
              "<matplotlib.legend.Legend at 0x7ff3e8011d50>"
            ]
          },
          "metadata": {},
          "execution_count": 255
        },
        {
          "output_type": "display_data",
          "data": {
            "text/plain": [
              "<Figure size 432x288 with 0 Axes>"
            ]
          },
          "metadata": {}
        },
        {
          "output_type": "display_data",
          "data": {
            "text/plain": [
              "<Figure size 432x288 with 1 Axes>"
            ],
            "image/png": "[encoded data removed]"
          },
          "metadata": {
            "needs_background": "light"
          }
        }
      ]
    },
    {
      "cell_type": "markdown",
      "source": [
        "Surprisingly, the highest level of employee turnover is in the HR department. It is about **30%** *(with the generally accepted norm - no more than 21% (look at the presentation Literature Review))*.\n",
        "We are interested in this increased activity, so we would like to investigate it. Therefore, we ***narrow our dataset to the HR department***"
      ],
      "metadata": {
        "id": "JqpLjCLw1TTh"
      }
    },
    {
      "cell_type": "code",
      "source": [
        "turnover = df[df['sales'] == 'hr']\n",
        "turnover.head(10)"
      ],
      "metadata": {
        "colab": {
          "base_uri": "https://localhost:8080/",
          "height": 394
        },
        "id": "uWLRvA2vq3Cm",
        "outputId": "055ec856-6a36-4e71-d1c7-39a054b89fe3"
      },
      "execution_count": 256,
      "outputs": [
        {
          "output_type": "execute_result",
          "data": {
            "text/plain": [
              "       satisfaction_level  last_evaluation  number_project  \\\n",
              "index                                                        \n",
              "31                   0.45             0.57               2   \n",
              "32                   0.40             0.51               2   \n",
              "33                   0.45             0.55               2   \n",
              "34                   0.84             0.87               4   \n",
              "108                  0.71             0.87               3   \n",
              "109                  0.40             0.49               2   \n",
              "110                  0.43             0.47               2   \n",
              "111                  0.09             0.85               6   \n",
              "184                  0.36             0.55               2   \n",
              "185                  0.40             0.46               2   \n",
              "\n",
              "       average_montly_hours  time_spend_company  Work_accident  left  \\\n",
              "index                                                                  \n",
              "31                      134                   3              0     1   \n",
              "32                      145                   3              0     1   \n",
              "33                      140                   3              0     1   \n",
              "34                      246                   6              0     1   \n",
              "108                     177                   4              0     1   \n",
              "109                     155                   3              0     1   \n",
              "110                     144                   3              0     1   \n",
              "111                     289                   4              0     1   \n",
              "184                     141                   3              0     1   \n",
              "185                     127                   3              0     1   \n",
              "\n",
              "       promotion_last_5years sales  salary  \n",
              "index                                       \n",
              "31                         0    hr     low  \n",
              "32                         0    hr     low  \n",
              "33                         0    hr     low  \n",
              "34                         0    hr     low  \n",
              "108                        0    hr  medium  \n",
              "109                        0    hr  medium  \n",
              "110                        0    hr  medium  \n",
              "111                        0    hr    high  \n",
              "184                        0    hr  medium  \n",
              "185                        0    hr  medium  "
            ],
            "text/html": [
              "\n",
              "  <div id=\"df-8ada5e34-ad08-46c1-b082-dfcf0a1fb87a\">\n",
              "    <div class=\"colab-df-container\">\n",
              "      <div>\n",
              "<style scoped>\n",
              "    .dataframe tbody tr th:only-of-type {\n",
              "        vertical-align: middle;\n",
              "    }\n",
              "\n",
              "    .dataframe tbody tr th {\n",
              "        vertical-align: top;\n",
              "    }\n",
              "\n",
              "    .dataframe thead th {\n",
              "        text-align: right;\n",
              "    }\n",
              "</style>\n",
              "<table border=\"1\" class=\"dataframe\">\n",
              "  <thead>\n",
              "    <tr style=\"text-align: right;\">\n",
              "      <th></th>\n",
              "      <th>satisfaction_level</th>\n",
              "      <th>last_evaluation</th>\n",
              "      <th>number_project</th>\n",
              "      <th>average_montly_hours</th>\n",
              "      <th>time_spend_company</th>\n",
              "      <th>Work_accident</th>\n",
              "      <th>left</th>\n",
              "      <th>promotion_last_5years</th>\n",
              "      <th>sales</th>\n",
              "      <th>salary</th>\n",
              "    </tr>\n",
              "    <tr>\n",
              "      <th>index</th>\n",
              "      <th></th>\n",
              "      <th></th>\n",
              "      <th></th>\n",
              "      <th></th>\n",
              "      <th></th>\n",
              "      <th></th>\n",
              "      <th></th>\n",
              "      <th></th>\n",
              "      <th></th>\n",
              "      <th></th>\n",
              "    </tr>\n",
              "  </thead>\n",
              "  <tbody>\n",
              "    <tr>\n",
              "      <th>31</th>\n",
              "      <td>0.45</td>\n",
              "      <td>0.57</td>\n",
              "      <td>2</td>\n",
              "      <td>134</td>\n",
              "      <td>3</td>\n",
              "      <td>0</td>\n",
              "      <td>1</td>\n",
              "      <td>0</td>\n",
              "      <td>hr</td>\n",
              "      <td>low</td>\n",
              "    </tr>\n",
              "    <tr>\n",
              "      <th>32</th>\n",
              "      <td>0.40</td>\n",
              "      <td>0.51</td>\n",
              "      <td>2</td>\n",
              "      <td>145</td>\n",
              "      <td>3</td>\n",
              "      <td>0</td>\n",
              "      <td>1</td>\n",
              "      <td>0</td>\n",
              "      <td>hr</td>\n",
              "      <td>low</td>\n",
              "    </tr>\n",
              "    <tr>\n",
              "      <th>33</th>\n",
              "      <td>0.45</td>\n",
              "      <td>0.55</td>\n",
              "      <td>2</td>\n",
              "      <td>140</td>\n",
              "      <td>3</td>\n",
              "      <td>0</td>\n",
              "      <td>1</td>\n",
              "      <td>0</td>\n",
              "      <td>hr</td>\n",
              "      <td>low</td>\n",
              "    </tr>\n",
              "    <tr>\n",
              "      <th>34</th>\n",
              "      <td>0.84</td>\n",
              "      <td>0.87</td>\n",
              "      <td>4</td>\n",
              "      <td>246</td>\n",
              "      <td>6</td>\n",
              "      <td>0</td>\n",
              "      <td>1</td>\n",
              "      <td>0</td>\n",
              "      <td>hr</td>\n",
              "      <td>low</td>\n",
              "    </tr>\n",
              "    <tr>\n",
              "      <th>108</th>\n",
              "      <td>0.71</td>\n",
              "      <td>0.87</td>\n",
              "      <td>3</td>\n",
              "      <td>177</td>\n",
              "      <td>4</td>\n",
              "      <td>0</td>\n",
              "      <td>1</td>\n",
              "      <td>0</td>\n",
              "      <td>hr</td>\n",
              "      <td>medium</td>\n",
              "    </tr>\n",
              "    <tr>\n",
              "      <th>109</th>\n",
              "      <td>0.40</td>\n",
              "      <td>0.49</td>\n",
              "      <td>2</td>\n",
              "      <td>155</td>\n",
              "      <td>3</td>\n",
              "      <td>0</td>\n",
              "      <td>1</td>\n",
              "      <td>0</td>\n",
              "      <td>hr</td>\n",
              "      <td>medium</td>\n",
              "    </tr>\n",
              "    <tr>\n",
              "      <th>110</th>\n",
              "      <td>0.43</td>\n",
              "      <td>0.47</td>\n",
              "      <td>2</td>\n",
              "      <td>144</td>\n",
              "      <td>3</td>\n",
              "      <td>0</td>\n",
              "      <td>1</td>\n",
              "      <td>0</td>\n",
              "      <td>hr</td>\n",
              "      <td>medium</td>\n",
              "    </tr>\n",
              "    <tr>\n",
              "      <th>111</th>\n",
              "      <td>0.09</td>\n",
              "      <td>0.85</td>\n",
              "      <td>6</td>\n",
              "      <td>289</td>\n",
              "      <td>4</td>\n",
              "      <td>0</td>\n",
              "      <td>1</td>\n",
              "      <td>0</td>\n",
              "      <td>hr</td>\n",
              "      <td>high</td>\n",
              "    </tr>\n",
              "    <tr>\n",
              "      <th>184</th>\n",
              "      <td>0.36</td>\n",
              "      <td>0.55</td>\n",
              "      <td>2</td>\n",
              "      <td>141</td>\n",
              "      <td>3</td>\n",
              "      <td>0</td>\n",
              "      <td>1</td>\n",
              "      <td>0</td>\n",
              "      <td>hr</td>\n",
              "      <td>medium</td>\n",
              "    </tr>\n",
              "    <tr>\n",
              "      <th>185</th>\n",
              "      <td>0.40</td>\n",
              "      <td>0.46</td>\n",
              "      <td>2</td>\n",
              "      <td>127</td>\n",
              "      <td>3</td>\n",
              "      <td>0</td>\n",
              "      <td>1</td>\n",
              "      <td>0</td>\n",
              "      <td>hr</td>\n",
              "      <td>medium</td>\n",
              "    </tr>\n",
              "  </tbody>\n",
              "</table>\n",
              "</div>\n",
              "      <button class=\"colab-df-convert\" onclick=\"convertToInteractive('df-8ada5e34-ad08-46c1-b082-dfcf0a1fb87a')\"\n",
              "              title=\"Convert this dataframe to an interactive table.\"\n",
              "              style=\"display:none;\">\n",
              "        \n",
              "  <svg xmlns=\"http://www.w3.org/2000/svg\" height=\"24px\"viewBox=\"0 0 24 24\"\n",
              "       width=\"24px\">\n",
              "    <path d=\"M0 0h24v24H0V0z\" fill=\"none\"/>\n",
              "    <path d=\"M18.56 5.44l.94 2.06.94-2.06 2.06-.94-2.06-.94-.94-2.06-.94 2.06-2.06.94zm-11 1L8.5 8.5l.94-2.06 2.06-.94-2.06-.94L8.5 2.5l-.94 2.06-2.06.94zm10 10l.94 2.06.94-2.06 2.06-.94-2.06-.94-.94-2.06-.94 2.06-2.06.94z\"/><path d=\"M17.41 7.96l-1.37-1.37c-.4-.4-.92-.59-1.43-.59-.52 0-1.04.2-1.43.59L10.3 9.45l-7.72 7.72c-.78.78-.78 2.05 0 2.83L4 21.41c.39.39.9.59 1.41.59.51 0 1.02-.2 1.41-.59l7.78-7.78 2.81-2.81c.8-.78.8-2.07 0-2.86zM5.41 20L4 18.59l7.72-7.72 1.47 1.35L5.41 20z\"/>\n",
              "  </svg>\n",
              "      </button>\n",
              "      \n",
              "  <style>\n",
              "    .colab-df-container {\n",
              "      display:flex;\n",
              "      flex-wrap:wrap;\n",
              "      gap: 12px;\n",
              "    }\n",
              "\n",
              "    .colab-df-convert {\n",
              "      background-color: #E8F0FE;\n",
              "      border: none;\n",
              "      border-radius: 50%;\n",
              "      cursor: pointer;\n",
              "      display: none;\n",
              "      fill: #1967D2;\n",
              "      height: 32px;\n",
              "      padding: 0 0 0 0;\n",
              "      width: 32px;\n",
              "    }\n",
              "\n",
              "    .colab-df-convert:hover {\n",
              "      background-color: #E2EBFA;\n",
              "      box-shadow: 0px 1px 2px rgba(60, 64, 67, 0.3), 0px 1px 3px 1px rgba(60, 64, 67, 0.15);\n",
              "      fill: #174EA6;\n",
              "    }\n",
              "\n",
              "    [theme=dark] .colab-df-convert {\n",
              "      background-color: #3B4455;\n",
              "      fill: #D2E3FC;\n",
              "    }\n",
              "\n",
              "    [theme=dark] .colab-df-convert:hover {\n",
              "      background-color: #434B5C;\n",
              "      box-shadow: 0px 1px 3px 1px rgba(0, 0, 0, 0.15);\n",
              "      filter: drop-shadow(0px 1px 2px rgba(0, 0, 0, 0.3));\n",
              "      fill: #FFFFFF;\n",
              "    }\n",
              "  </style>\n",
              "\n",
              "      <script>\n",
              "        const buttonEl =\n",
              "          document.querySelector('#df-8ada5e34-ad08-46c1-b082-dfcf0a1fb87a button.colab-df-convert');\n",
              "        buttonEl.style.display =\n",
              "          google.colab.kernel.accessAllowed ? 'block' : 'none';\n",
              "\n",
              "        async function convertToInteractive(key) {\n",
              "          const element = document.querySelector('#df-8ada5e34-ad08-46c1-b082-dfcf0a1fb87a');\n",
              "          const dataTable =\n",
              "            await google.colab.kernel.invokeFunction('convertToInteractive',\n",
              "                                                     [key], {});\n",
              "          if (!dataTable) return;\n",
              "\n",
              "          const docLinkHtml = 'Like what you see? Visit the ' +\n",
              "            '<a target=\"_blank\" href=https://colab.research.google.com/notebooks/data_table.ipynb>data table notebook</a>'\n",
              "            + ' to learn more about interactive tables.';\n",
              "          element.innerHTML = '';\n",
              "          dataTable['output_type'] = 'display_data';\n",
              "          await google.colab.output.renderOutput(dataTable, element);\n",
              "          const docLink = document.createElement('div');\n",
              "          docLink.innerHTML = docLinkHtml;\n",
              "          element.appendChild(docLink);\n",
              "        }\n",
              "      </script>\n",
              "    </div>\n",
              "  </div>\n",
              "  "
            ]
          },
          "metadata": {},
          "execution_count": 256
        }
      ]
    },
    {
      "cell_type": "markdown",
      "source": [
        "Our ***research question***: *what are the impact of level of satisfaction, last evaluation rate, number of projects, average montly hours of work, time spend in the compaby, presence of work accident, presence of promotion for 5 years and salary on the decision of a HR-specialist to leave a company?*"
      ],
      "metadata": {
        "id": "dxA5BzI_3EdB"
      }
    },
    {
      "cell_type": "markdown",
      "source": [
        "To answer this question, we turn to the method of ***logistic regression***. Our **dependent variable** is **left**. The **rest of the variables** will become our **independent variables**, the effect of which we will investigate. \n",
        "\n",
        "Before we start building the model, let's remember the type of our variables, because depending on this, it will be necessary to carry out some data preparation.\n",
        "\n",
        "Also now we delete useless column *sales*"
      ],
      "metadata": {
        "id": "0AB8HJJj3OeV"
      }
    },
    {
      "cell_type": "code",
      "source": [
        "turnover1 = turnover\n",
        "del turnover1['sales']\n",
        "turnover1.dtypes"
      ],
      "metadata": {
        "colab": {
          "base_uri": "https://localhost:8080/"
        },
        "id": "Lnq-_QAUMQwe",
        "outputId": "a2e21b73-bc57-4322-c13f-2974b251e124"
      },
      "execution_count": 258,
      "outputs": [
        {
          "output_type": "execute_result",
          "data": {
            "text/plain": [
              "satisfaction_level       float64\n",
              "last_evaluation          float64\n",
              "number_project             int64\n",
              "average_montly_hours       int64\n",
              "time_spend_company         int64\n",
              "Work_accident              int64\n",
              "left                       int64\n",
              "promotion_last_5years      int64\n",
              "salary                    object\n",
              "dtype: object"
            ]
          },
          "metadata": {},
          "execution_count": 258
        }
      ]
    },
    {
      "cell_type": "markdown",
      "source": [
        "Let's start with our qualitative variable - **\"salary\"**. We can notice that the data type is an object. But what data does it contain?"
      ],
      "metadata": {
        "id": "awU6_Km89hei"
      }
    },
    {
      "cell_type": "code",
      "source": [
        "turnover1['salary'].head()"
      ],
      "metadata": {
        "colab": {
          "base_uri": "https://localhost:8080/"
        },
        "id": "_6YdByTU9K0G",
        "outputId": "9f643b24-c8dc-45a4-bb41-1d3a34d8476a"
      },
      "execution_count": 259,
      "outputs": [
        {
          "output_type": "execute_result",
          "data": {
            "text/plain": [
              "index\n",
              "31        low\n",
              "32        low\n",
              "33        low\n",
              "34        low\n",
              "108    medium\n",
              "Name: salary, dtype: object"
            ]
          },
          "metadata": {},
          "execution_count": 259
        }
      ]
    },
    {
      "cell_type": "markdown",
      "source": [
        "You can see that this variable needs to be transformed into a *categorical type*. Moreover, it is necessary to make this variable *ordinal* and set the order: low, medium, high"
      ],
      "metadata": {
        "id": "IkFMHC8G91HI"
      }
    },
    {
      "cell_type": "code",
      "source": [
        "my_categories = covered_type = pd.CategoricalDtype(categories= [\"low\", \"medium\", \"high\"], ordered=True)\n",
        "turnover1['salary'] = turnover1['salary'].astype(my_categories)\n",
        "turnover1['salary'].head()"
      ],
      "metadata": {
        "colab": {
          "base_uri": "https://localhost:8080/"
        },
        "id": "HrCCJ4mW8-Xy",
        "outputId": "1e61cb78-0069-419f-844a-293406a4dc97"
      },
      "execution_count": 260,
      "outputs": [
        {
          "output_type": "execute_result",
          "data": {
            "text/plain": [
              "index\n",
              "31        low\n",
              "32        low\n",
              "33        low\n",
              "34        low\n",
              "108    medium\n",
              "Name: salary, dtype: category\n",
              "Categories (3, object): ['low' < 'medium' < 'high']"
            ]
          },
          "metadata": {},
          "execution_count": 260
        }
      ]
    },
    {
      "cell_type": "markdown",
      "source": [
        "Now when variable is prepared, let's look at contingecy table showing the *salary distribution among those who left and who stayed in the company*"
      ],
      "metadata": {
        "id": "DEIbjwLcCdji"
      }
    },
    {
      "cell_type": "code",
      "source": [
        "data_crosstab = pd.crosstab(turnover1['left'],\n",
        "                            turnover1['salary'], \n",
        "                               margins = True)\n",
        "print(data_crosstab)"
      ],
      "metadata": {
        "colab": {
          "base_uri": "https://localhost:8080/"
        },
        "id": "ipCTOI4OCcpN",
        "outputId": "e5afce05-579e-4396-b6fb-0c9842d9f414"
      },
      "execution_count": 261,
      "outputs": [
        {
          "output_type": "stream",
          "name": "stdout",
          "text": [
            "salary  low  medium  high  All\n",
            "left                          \n",
            "0       243     242    39  524\n",
            "1        92     117     6  215\n",
            "All     335     359    45  739\n"
          ]
        }
      ]
    },
    {
      "cell_type": "markdown",
      "source": [
        "We can say that in each salary group there are enough observation for building a model."
      ],
      "metadata": {
        "id": "fx6tbUqpC7nU"
      }
    },
    {
      "cell_type": "markdown",
      "source": [
        "Now let's work with *quantitative variables*:\n",
        "satisfaction_level, last_evaluation, number_project, average_montly_hours, \n",
        "time_spend_company, Work_accident, promotion_last_5years. There's its descriptive statistics"
      ],
      "metadata": {
        "id": "yI3ZPBHnvIpC"
      }
    },
    {
      "cell_type": "code",
      "source": [
        "turnover1.describe()"
      ],
      "metadata": {
        "colab": {
          "base_uri": "https://localhost:8080/",
          "height": 300
        },
        "id": "zcy0W2VjhL87",
        "outputId": "3f7be080-364e-4213-a01b-46e6d5ffddfe"
      },
      "execution_count": 262,
      "outputs": [
        {
          "output_type": "execute_result",
          "data": {
            "text/plain": [
              "       satisfaction_level  last_evaluation  number_project  \\\n",
              "count          739.000000       739.000000      739.000000   \n",
              "mean             0.598809         0.708850        3.654939   \n",
              "std              0.247929         0.174584        1.229168   \n",
              "min              0.090000         0.370000        2.000000   \n",
              "25%              0.430000         0.550000        3.000000   \n",
              "50%              0.610000         0.720000        4.000000   \n",
              "75%              0.805000         0.865000        4.000000   \n",
              "max              1.000000         1.000000        7.000000   \n",
              "\n",
              "       average_montly_hours  time_spend_company  Work_accident        left  \\\n",
              "count            739.000000          739.000000     739.000000  739.000000   \n",
              "mean             198.684709            3.355886       0.120433    0.290934   \n",
              "std               50.366214            1.169510       0.325688    0.454501   \n",
              "min               98.000000            2.000000       0.000000    0.000000   \n",
              "25%              152.000000            3.000000       0.000000    0.000000   \n",
              "50%              197.000000            3.000000       0.000000    0.000000   \n",
              "75%              242.000000            4.000000       0.000000    1.000000   \n",
              "max              310.000000            8.000000       1.000000    1.000000   \n",
              "\n",
              "       promotion_last_5years  \n",
              "count             739.000000  \n",
              "mean                0.020298  \n",
              "std                 0.141112  \n",
              "min                 0.000000  \n",
              "25%                 0.000000  \n",
              "50%                 0.000000  \n",
              "75%                 0.000000  \n",
              "max                 1.000000  "
            ],
            "text/html": [
              "\n",
              "  <div id=\"df-9346c195-6acb-4886-a1e2-8b5af3e57193\">\n",
              "    <div class=\"colab-df-container\">\n",
              "      <div>\n",
              "<style scoped>\n",
              "    .dataframe tbody tr th:only-of-type {\n",
              "        vertical-align: middle;\n",
              "    }\n",
              "\n",
              "    .dataframe tbody tr th {\n",
              "        vertical-align: top;\n",
              "    }\n",
              "\n",
              "    .dataframe thead th {\n",
              "        text-align: right;\n",
              "    }\n",
              "</style>\n",
              "<table border=\"1\" class=\"dataframe\">\n",
              "  <thead>\n",
              "    <tr style=\"text-align: right;\">\n",
              "      <th></th>\n",
              "      <th>satisfaction_level</th>\n",
              "      <th>last_evaluation</th>\n",
              "      <th>number_project</th>\n",
              "      <th>average_montly_hours</th>\n",
              "      <th>time_spend_company</th>\n",
              "      <th>Work_accident</th>\n",
              "      <th>left</th>\n",
              "      <th>promotion_last_5years</th>\n",
              "    </tr>\n",
              "  </thead>\n",
              "  <tbody>\n",
              "    <tr>\n",
              "      <th>count</th>\n",
              "      <td>739.000000</td>\n",
              "      <td>739.000000</td>\n",
              "      <td>739.000000</td>\n",
              "      <td>739.000000</td>\n",
              "      <td>739.000000</td>\n",
              "      <td>739.000000</td>\n",
              "      <td>739.000000</td>\n",
              "      <td>739.000000</td>\n",
              "    </tr>\n",
              "    <tr>\n",
              "      <th>mean</th>\n",
              "      <td>0.598809</td>\n",
              "      <td>0.708850</td>\n",
              "      <td>3.654939</td>\n",
              "      <td>198.684709</td>\n",
              "      <td>3.355886</td>\n",
              "      <td>0.120433</td>\n",
              "      <td>0.290934</td>\n",
              "      <td>0.020298</td>\n",
              "    </tr>\n",
              "    <tr>\n",
              "      <th>std</th>\n",
              "      <td>0.247929</td>\n",
              "      <td>0.174584</td>\n",
              "      <td>1.229168</td>\n",
              "      <td>50.366214</td>\n",
              "      <td>1.169510</td>\n",
              "      <td>0.325688</td>\n",
              "      <td>0.454501</td>\n",
              "      <td>0.141112</td>\n",
              "    </tr>\n",
              "    <tr>\n",
              "      <th>min</th>\n",
              "      <td>0.090000</td>\n",
              "      <td>0.370000</td>\n",
              "      <td>2.000000</td>\n",
              "      <td>98.000000</td>\n",
              "      <td>2.000000</td>\n",
              "      <td>0.000000</td>\n",
              "      <td>0.000000</td>\n",
              "      <td>0.000000</td>\n",
              "    </tr>\n",
              "    <tr>\n",
              "      <th>25%</th>\n",
              "      <td>0.430000</td>\n",
              "      <td>0.550000</td>\n",
              "      <td>3.000000</td>\n",
              "      <td>152.000000</td>\n",
              "      <td>3.000000</td>\n",
              "      <td>0.000000</td>\n",
              "      <td>0.000000</td>\n",
              "      <td>0.000000</td>\n",
              "    </tr>\n",
              "    <tr>\n",
              "      <th>50%</th>\n",
              "      <td>0.610000</td>\n",
              "      <td>0.720000</td>\n",
              "      <td>4.000000</td>\n",
              "      <td>197.000000</td>\n",
              "      <td>3.000000</td>\n",
              "      <td>0.000000</td>\n",
              "      <td>0.000000</td>\n",
              "      <td>0.000000</td>\n",
              "    </tr>\n",
              "    <tr>\n",
              "      <th>75%</th>\n",
              "      <td>0.805000</td>\n",
              "      <td>0.865000</td>\n",
              "      <td>4.000000</td>\n",
              "      <td>242.000000</td>\n",
              "      <td>4.000000</td>\n",
              "      <td>0.000000</td>\n",
              "      <td>1.000000</td>\n",
              "      <td>0.000000</td>\n",
              "    </tr>\n",
              "    <tr>\n",
              "      <th>max</th>\n",
              "      <td>1.000000</td>\n",
              "      <td>1.000000</td>\n",
              "      <td>7.000000</td>\n",
              "      <td>310.000000</td>\n",
              "      <td>8.000000</td>\n",
              "      <td>1.000000</td>\n",
              "      <td>1.000000</td>\n",
              "      <td>1.000000</td>\n",
              "    </tr>\n",
              "  </tbody>\n",
              "</table>\n",
              "</div>\n",
              "      <button class=\"colab-df-convert\" onclick=\"convertToInteractive('df-9346c195-6acb-4886-a1e2-8b5af3e57193')\"\n",
              "              title=\"Convert this dataframe to an interactive table.\"\n",
              "              style=\"display:none;\">\n",
              "        \n",
              "  <svg xmlns=\"http://www.w3.org/2000/svg\" height=\"24px\"viewBox=\"0 0 24 24\"\n",
              "       width=\"24px\">\n",
              "    <path d=\"M0 0h24v24H0V0z\" fill=\"none\"/>\n",
              "    <path d=\"M18.56 5.44l.94 2.06.94-2.06 2.06-.94-2.06-.94-.94-2.06-.94 2.06-2.06.94zm-11 1L8.5 8.5l.94-2.06 2.06-.94-2.06-.94L8.5 2.5l-.94 2.06-2.06.94zm10 10l.94 2.06.94-2.06 2.06-.94-2.06-.94-.94-2.06-.94 2.06-2.06.94z\"/><path d=\"M17.41 7.96l-1.37-1.37c-.4-.4-.92-.59-1.43-.59-.52 0-1.04.2-1.43.59L10.3 9.45l-7.72 7.72c-.78.78-.78 2.05 0 2.83L4 21.41c.39.39.9.59 1.41.59.51 0 1.02-.2 1.41-.59l7.78-7.78 2.81-2.81c.8-.78.8-2.07 0-2.86zM5.41 20L4 18.59l7.72-7.72 1.47 1.35L5.41 20z\"/>\n",
              "  </svg>\n",
              "      </button>\n",
              "      \n",
              "  <style>\n",
              "    .colab-df-container {\n",
              "      display:flex;\n",
              "      flex-wrap:wrap;\n",
              "      gap: 12px;\n",
              "    }\n",
              "\n",
              "    .colab-df-convert {\n",
              "      background-color: #E8F0FE;\n",
              "      border: none;\n",
              "      border-radius: 50%;\n",
              "      cursor: pointer;\n",
              "      display: none;\n",
              "      fill: #1967D2;\n",
              "      height: 32px;\n",
              "      padding: 0 0 0 0;\n",
              "      width: 32px;\n",
              "    }\n",
              "\n",
              "    .colab-df-convert:hover {\n",
              "      background-color: #E2EBFA;\n",
              "      box-shadow: 0px 1px 2px rgba(60, 64, 67, 0.3), 0px 1px 3px 1px rgba(60, 64, 67, 0.15);\n",
              "      fill: #174EA6;\n",
              "    }\n",
              "\n",
              "    [theme=dark] .colab-df-convert {\n",
              "      background-color: #3B4455;\n",
              "      fill: #D2E3FC;\n",
              "    }\n",
              "\n",
              "    [theme=dark] .colab-df-convert:hover {\n",
              "      background-color: #434B5C;\n",
              "      box-shadow: 0px 1px 3px 1px rgba(0, 0, 0, 0.15);\n",
              "      filter: drop-shadow(0px 1px 2px rgba(0, 0, 0, 0.3));\n",
              "      fill: #FFFFFF;\n",
              "    }\n",
              "  </style>\n",
              "\n",
              "      <script>\n",
              "        const buttonEl =\n",
              "          document.querySelector('#df-9346c195-6acb-4886-a1e2-8b5af3e57193 button.colab-df-convert');\n",
              "        buttonEl.style.display =\n",
              "          google.colab.kernel.accessAllowed ? 'block' : 'none';\n",
              "\n",
              "        async function convertToInteractive(key) {\n",
              "          const element = document.querySelector('#df-9346c195-6acb-4886-a1e2-8b5af3e57193');\n",
              "          const dataTable =\n",
              "            await google.colab.kernel.invokeFunction('convertToInteractive',\n",
              "                                                     [key], {});\n",
              "          if (!dataTable) return;\n",
              "\n",
              "          const docLinkHtml = 'Like what you see? Visit the ' +\n",
              "            '<a target=\"_blank\" href=https://colab.research.google.com/notebooks/data_table.ipynb>data table notebook</a>'\n",
              "            + ' to learn more about interactive tables.';\n",
              "          element.innerHTML = '';\n",
              "          dataTable['output_type'] = 'display_data';\n",
              "          await google.colab.output.renderOutput(dataTable, element);\n",
              "          const docLink = document.createElement('div');\n",
              "          docLink.innerHTML = docLinkHtml;\n",
              "          element.appendChild(docLink);\n",
              "        }\n",
              "      </script>\n",
              "    </div>\n",
              "  </div>\n",
              "  "
            ]
          },
          "metadata": {},
          "execution_count": 262
        }
      ]
    },
    {
      "cell_type": "markdown",
      "source": [
        "Now let's check that our numerical data has a normal distribution, because this is one of the assumptions of logistic regression. We will now plot a *histogram* for each variable. If we notice that the distribution is not normal, then we take the *logarithm of the given variable*."
      ],
      "metadata": {
        "id": "m0BN-RriG3DK"
      }
    },
    {
      "cell_type": "code",
      "source": [
        "plt.hist(turnover1['satisfaction_level'], bins=10, color = ['skyblue'])\n",
        "plt.title('Fig.No. 3: SATISFACTION LEVEL HISTOGRAM')\n",
        "print('Need transformation into logarithm')"
      ],
      "metadata": {
        "colab": {
          "base_uri": "https://localhost:8080/",
          "height": 300
        },
        "id": "-_B5tPFUt4s-",
        "outputId": "68e27b54-1ffd-4823-b791-ca71fe446a05"
      },
      "execution_count": 263,
      "outputs": [
        {
          "output_type": "stream",
          "name": "stdout",
          "text": [
            "Need transformation into logarithm\n"
          ]
        },
        {
          "output_type": "display_data",
          "data": {
            "text/plain": [
              "<Figure size 432x288 with 1 Axes>"
            ],
            "image/png": "[encoded data removed]"
          },
          "metadata": {
            "needs_background": "light"
          }
        }
      ]
    },
    {
      "cell_type": "code",
      "source": [
        "turnover1['satisfaction_level'] = np.log(turnover1['satisfaction_level'])\n",
        "plt.hist(turnover1['satisfaction_level'], bins=10,  color = ['skyblue'])\n",
        "plt.title('Fig.No. 4: TRANSFORMED SATISFACTION LEVEL HISTOGRAM')"
      ],
      "metadata": {
        "colab": {
          "base_uri": "https://localhost:8080/",
          "height": 300
        },
        "id": "_qLg9K3QuU20",
        "outputId": "94620469-9435-42b2-deed-06ee1dc5cd3c"
      },
      "execution_count": 264,
      "outputs": [
        {
          "output_type": "execute_result",
          "data": {
            "text/plain": [
              "Text(0.5, 1.0, 'Fig.No. 4: TRANSFORMED SATISFACTION LEVEL HISTOGRAM')"
            ]
          },
          "metadata": {},
          "execution_count": 264
        },
        {
          "output_type": "display_data",
          "data": {
            "text/plain": [
              "<Figure size 432x288 with 1 Axes>"
            ],
            "image/png": "[encoded data removed]"
          },
          "metadata": {
            "needs_background": "light"
          }
        }
      ]
    },
    {
      "cell_type": "code",
      "source": [
        "plt.hist(turnover1['last_evaluation'], bins=10,  color = ['skyblue'])\n",
        "plt.title('Fig.No. 5: LAST EVALUATION HISTOGRAM')\n",
        "print('Need transformation into logarithm')"
      ],
      "metadata": {
        "colab": {
          "base_uri": "https://localhost:8080/",
          "height": 300
        },
        "id": "AicFH8ixhvgU",
        "outputId": "e2003cd8-b945-4397-cfc5-91b60fc36468"
      },
      "execution_count": 265,
      "outputs": [
        {
          "output_type": "stream",
          "name": "stdout",
          "text": [
            "Need transformation into logarithm\n"
          ]
        },
        {
          "output_type": "display_data",
          "data": {
            "text/plain": [
              "<Figure size 432x288 with 1 Axes>"
            ],
            "image/png": "[encoded data removed]"
          },
          "metadata": {
            "needs_background": "light"
          }
        }
      ]
    },
    {
      "cell_type": "code",
      "source": [
        "turnover1['last_evaluation'] = np.log(turnover1['last_evaluation'])\n",
        "plt.hist(turnover1['last_evaluation'], bins=10, color = ['skyblue'])\n",
        "plt.title('Fig.No. 6: TRANSFORMED LAST EVALUATION HISTOGRAM')"
      ],
      "metadata": {
        "colab": {
          "base_uri": "https://localhost:8080/",
          "height": 300
        },
        "id": "n_iOieGvuyqA",
        "outputId": "291d17bb-9504-4498-acb4-12ea09bf9c9a"
      },
      "execution_count": 266,
      "outputs": [
        {
          "output_type": "execute_result",
          "data": {
            "text/plain": [
              "Text(0.5, 1.0, 'Fig.No. 6: TRANSFORMED LAST EVALUATION HISTOGRAM')"
            ]
          },
          "metadata": {},
          "execution_count": 266
        },
        {
          "output_type": "display_data",
          "data": {
            "text/plain": [
              "<Figure size 432x288 with 1 Axes>"
            ],
            "image/png": "[encoded data removed]"
          },
          "metadata": {
            "needs_background": "light"
          }
        }
      ]
    },
    {
      "cell_type": "code",
      "source": [
        "plt.hist(turnover1['number_project'], bins=5,  color = ['skyblue'])\n",
        "plt.title('Fig.No. 7: NUMBER OF PROJECTS HISTOGRAM')\n",
        "print('No need to transform into logarithm')"
      ],
      "metadata": {
        "colab": {
          "base_uri": "https://localhost:8080/",
          "height": 300
        },
        "id": "Tc1_eDTbuqmq",
        "outputId": "d1b4e98c-7f31-4029-81c2-958907931581"
      },
      "execution_count": 267,
      "outputs": [
        {
          "output_type": "stream",
          "name": "stdout",
          "text": [
            "No need to transform into logarithm\n"
          ]
        },
        {
          "output_type": "display_data",
          "data": {
            "text/plain": [
              "<Figure size 432x288 with 1 Axes>"
            ],
            "image/png": "[encoded data removed]"
          },
          "metadata": {
            "needs_background": "light"
          }
        }
      ]
    },
    {
      "cell_type": "code",
      "source": [
        "plt.hist(turnover1['average_montly_hours'], bins=10,  color = ['skyblue'])\n",
        "plt.title('Fig.No. 8: AVERAGE MONTHLY HOURS HISTOGRAM')\n",
        "print('Need a transformation into logarithm')"
      ],
      "metadata": {
        "colab": {
          "base_uri": "https://localhost:8080/",
          "height": 300
        },
        "id": "a50b1HXOv3y0",
        "outputId": "11feccc3-5270-4de4-fca7-9ca2282356b9"
      },
      "execution_count": 268,
      "outputs": [
        {
          "output_type": "stream",
          "name": "stdout",
          "text": [
            "Need a transformation into logarithm\n"
          ]
        },
        {
          "output_type": "display_data",
          "data": {
            "text/plain": [
              "<Figure size 432x288 with 1 Axes>"
            ],
            "image/png": "[encoded data removed]"
          },
          "metadata": {
            "needs_background": "light"
          }
        }
      ]
    },
    {
      "cell_type": "code",
      "source": [
        "turnover1['average_montly_hours'] = np.log(turnover1['average_montly_hours'])\n",
        "plt.hist(turnover1['average_montly_hours'], bins=10,  color = ['skyblue'])\n",
        "plt.title('Fig.No. 9: TRANSFORMED AVERAGE MONTHLY HOURS HISTOGRAM')"
      ],
      "metadata": {
        "colab": {
          "base_uri": "https://localhost:8080/",
          "height": 300
        },
        "id": "pIFcyZQFifa-",
        "outputId": "3d01b818-ddb0-4414-cdef-2c59c0565d08"
      },
      "execution_count": 269,
      "outputs": [
        {
          "output_type": "execute_result",
          "data": {
            "text/plain": [
              "Text(0.5, 1.0, 'Fig.No. 9: TRANSFORMED AVERAGE MONTHLY HOURS HISTOGRAM')"
            ]
          },
          "metadata": {},
          "execution_count": 269
        },
        {
          "output_type": "display_data",
          "data": {
            "text/plain": [
              "<Figure size 432x288 with 1 Axes>"
            ],
            "image/png": "[encoded data removed]"
          },
          "metadata": {
            "needs_background": "light"
          }
        }
      ]
    },
    {
      "cell_type": "code",
      "source": [
        "plt.hist(turnover1['time_spend_company'], bins=5,  color = ['skyblue'])\n",
        "plt.title('Fig.No. 10: TIME SPEND IN THE COMPANY HISTOGRAM')\n",
        "print('Need a transformation into logarithm')"
      ],
      "metadata": {
        "colab": {
          "base_uri": "https://localhost:8080/",
          "height": 300
        },
        "id": "-fWkstCfwPPy",
        "outputId": "bbefec16-2747-485d-cef3-a1900da7a5b4"
      },
      "execution_count": 270,
      "outputs": [
        {
          "output_type": "stream",
          "name": "stdout",
          "text": [
            "Need a transformation into logarithm\n"
          ]
        },
        {
          "output_type": "display_data",
          "data": {
            "text/plain": [
              "<Figure size 432x288 with 1 Axes>"
            ],
            "image/png": "[encoded data removed]"
          },
          "metadata": {
            "needs_background": "light"
          }
        }
      ]
    },
    {
      "cell_type": "code",
      "source": [
        "turnover1['time_spend_company'] = np.log(turnover1['time_spend_company'])\n",
        "plt.hist(turnover1['time_spend_company'], bins=5,  color = ['skyblue'])\n",
        "plt.title('Fig.No. 11: TRANSFORMED TIME SPEND IN THE COMPANY HISTOGRAM')"
      ],
      "metadata": {
        "colab": {
          "base_uri": "https://localhost:8080/",
          "height": 300
        },
        "id": "KFIEaMVzi0Dp",
        "outputId": "468272c1-6a26-4e3c-e6f0-e977106431fa"
      },
      "execution_count": 271,
      "outputs": [
        {
          "output_type": "execute_result",
          "data": {
            "text/plain": [
              "Text(0.5, 1.0, 'Fig.No. 11: TRANSFORMED TIME SPEND IN THE COMPANY HISTOGRAM')"
            ]
          },
          "metadata": {},
          "execution_count": 271
        },
        {
          "output_type": "display_data",
          "data": {
            "text/plain": [
              "<Figure size 432x288 with 1 Axes>"
            ],
            "image/png": "[encoded data removed]"
          },
          "metadata": {
            "needs_background": "light"
          }
        }
      ]
    },
    {
      "cell_type": "markdown",
      "source": [
        "After we checked the normality of the distribution of numerical data, we can make sure that there is **no multicollinearity problem**. For this, the correlation matrix should **not have perfect parameters like 1 or -1**"
      ],
      "metadata": {
        "id": "9vBmJdpf5aBo"
      }
    },
    {
      "cell_type": "code",
      "source": [
        "corr = turnover1.corr()\n",
        "corr.style.background_gradient(cmap='Blues')"
      ],
      "metadata": {
        "colab": {
          "base_uri": "https://localhost:8080/",
          "height": 300
        },
        "id": "c37CXpdLyFJi",
        "outputId": "3157885c-9525-454c-ec99-291c4105c231"
      },
      "execution_count": 272,
      "outputs": [
        {
          "output_type": "execute_result",
          "data": {
            "text/plain": [
              "<pandas.io.formats.style.Styler at 0x7ff3e9e51bd0>"
            ],
            "text/html": [
              "<style type=\"text/css\">\n",
              "#T_6ac67_row0_col0, #T_6ac67_row1_col1, #T_6ac67_row2_col2, #T_6ac67_row3_col3, #T_6ac67_row4_col4, #T_6ac67_row5_col5, #T_6ac67_row6_col6, #T_6ac67_row7_col7 {\n",
              "  background-color: #08306b;\n",
              "  color: #f1f1f1;\n",
              "}\n",
              "#T_6ac67_row0_col1, #T_6ac67_row5_col7 {\n",
              "  background-color: #d6e5f4;\n",
              "  color: #000000;\n",
              "}\n",
              "#T_6ac67_row0_col2, #T_6ac67_row0_col3, #T_6ac67_row0_col4, #T_6ac67_row0_col6, #T_6ac67_row6_col0, #T_6ac67_row6_col1, #T_6ac67_row6_col5, #T_6ac67_row6_col7 {\n",
              "  background-color: #f7fbff;\n",
              "  color: #000000;\n",
              "}\n",
              "#T_6ac67_row0_col5, #T_6ac67_row1_col6, #T_6ac67_row7_col2 {\n",
              "  background-color: #cddff1;\n",
              "  color: #000000;\n",
              "}\n",
              "#T_6ac67_row0_col7, #T_6ac67_row2_col5 {\n",
              "  background-color: #e0ecf8;\n",
              "  color: #000000;\n",
              "}\n",
              "#T_6ac67_row1_col0 {\n",
              "  background-color: #a6cee4;\n",
              "  color: #000000;\n",
              "}\n",
              "#T_6ac67_row1_col2 {\n",
              "  background-color: #56a0ce;\n",
              "  color: #f1f1f1;\n",
              "}\n",
              "#T_6ac67_row1_col3 {\n",
              "  background-color: #91c3de;\n",
              "  color: #000000;\n",
              "}\n",
              "#T_6ac67_row1_col4 {\n",
              "  background-color: #b0d2e7;\n",
              "  color: #000000;\n",
              "}\n",
              "#T_6ac67_row1_col5 {\n",
              "  background-color: #dfecf7;\n",
              "  color: #000000;\n",
              "}\n",
              "#T_6ac67_row1_col7 {\n",
              "  background-color: #f4f9fe;\n",
              "  color: #000000;\n",
              "}\n",
              "#T_6ac67_row2_col0, #T_6ac67_row4_col5 {\n",
              "  background-color: #e6f0f9;\n",
              "  color: #000000;\n",
              "}\n",
              "#T_6ac67_row2_col1, #T_6ac67_row4_col6 {\n",
              "  background-color: #6dafd7;\n",
              "  color: #f1f1f1;\n",
              "}\n",
              "#T_6ac67_row2_col3 {\n",
              "  background-color: #5fa6d1;\n",
              "  color: #f1f1f1;\n",
              "}\n",
              "#T_6ac67_row2_col4 {\n",
              "  background-color: #8fc2de;\n",
              "  color: #000000;\n",
              "}\n",
              "#T_6ac67_row2_col6 {\n",
              "  background-color: #c2d9ee;\n",
              "  color: #000000;\n",
              "}\n",
              "#T_6ac67_row2_col7 {\n",
              "  background-color: #ecf4fb;\n",
              "  color: #000000;\n",
              "}\n",
              "#T_6ac67_row3_col0, #T_6ac67_row4_col1, #T_6ac67_row7_col5 {\n",
              "  background-color: #cadef0;\n",
              "  color: #000000;\n",
              "}\n",
              "#T_6ac67_row3_col1 {\n",
              "  background-color: #8dc1dd;\n",
              "  color: #000000;\n",
              "}\n",
              "#T_6ac67_row3_col2 {\n",
              "  background-color: #4896c8;\n",
              "  color: #f1f1f1;\n",
              "}\n",
              "#T_6ac67_row3_col4, #T_6ac67_row7_col4 {\n",
              "  background-color: #a5cde3;\n",
              "  color: #000000;\n",
              "}\n",
              "#T_6ac67_row3_col5 {\n",
              "  background-color: #d9e8f5;\n",
              "  color: #000000;\n",
              "}\n",
              "#T_6ac67_row3_col6 {\n",
              "  background-color: #c1d9ed;\n",
              "  color: #000000;\n",
              "}\n",
              "#T_6ac67_row3_col7 {\n",
              "  background-color: #deebf7;\n",
              "  color: #000000;\n",
              "}\n",
              "#T_6ac67_row4_col0 {\n",
              "  background-color: #e1edf8;\n",
              "  color: #000000;\n",
              "}\n",
              "#T_6ac67_row4_col2, #T_6ac67_row6_col4 {\n",
              "  background-color: #89bedc;\n",
              "  color: #000000;\n",
              "}\n",
              "#T_6ac67_row4_col3 {\n",
              "  background-color: #c3daee;\n",
              "  color: #000000;\n",
              "}\n",
              "#T_6ac67_row4_col7 {\n",
              "  background-color: #c7dcef;\n",
              "  color: #000000;\n",
              "}\n",
              "#T_6ac67_row5_col0 {\n",
              "  background-color: #a3cce3;\n",
              "  color: #000000;\n",
              "}\n",
              "#T_6ac67_row5_col1 {\n",
              "  background-color: #e7f0fa;\n",
              "  color: #000000;\n",
              "}\n",
              "#T_6ac67_row5_col2 {\n",
              "  background-color: #cee0f2;\n",
              "  color: #000000;\n",
              "}\n",
              "#T_6ac67_row5_col3 {\n",
              "  background-color: #e3eef8;\n",
              "  color: #000000;\n",
              "}\n",
              "#T_6ac67_row5_col4 {\n",
              "  background-color: #d7e6f5;\n",
              "  color: #000000;\n",
              "}\n",
              "#T_6ac67_row5_col6 {\n",
              "  background-color: #d3e3f3;\n",
              "  color: #000000;\n",
              "}\n",
              "#T_6ac67_row6_col2 {\n",
              "  background-color: #d1e2f3;\n",
              "  color: #000000;\n",
              "}\n",
              "#T_6ac67_row6_col3 {\n",
              "  background-color: #edf4fc;\n",
              "  color: #000000;\n",
              "}\n",
              "#T_6ac67_row7_col0 {\n",
              "  background-color: #aed1e7;\n",
              "  color: #000000;\n",
              "}\n",
              "#T_6ac67_row7_col1 {\n",
              "  background-color: #eef5fc;\n",
              "  color: #000000;\n",
              "}\n",
              "#T_6ac67_row7_col3 {\n",
              "  background-color: #dbe9f6;\n",
              "  color: #000000;\n",
              "}\n",
              "#T_6ac67_row7_col6 {\n",
              "  background-color: #c8dcf0;\n",
              "  color: #000000;\n",
              "}\n",
              "</style>\n",
              "<table id=\"T_6ac67_\" class=\"dataframe\">\n",
              "  <thead>\n",
              "    <tr>\n",
              "      <th class=\"blank level0\" >&nbsp;</th>\n",
              "      <th class=\"col_heading level0 col0\" >satisfaction_level</th>\n",
              "      <th class=\"col_heading level0 col1\" >last_evaluation</th>\n",
              "      <th class=\"col_heading level0 col2\" >number_project</th>\n",
              "      <th class=\"col_heading level0 col3\" >average_montly_hours</th>\n",
              "      <th class=\"col_heading level0 col4\" >time_spend_company</th>\n",
              "      <th class=\"col_heading level0 col5\" >Work_accident</th>\n",
              "      <th class=\"col_heading level0 col6\" >left</th>\n",
              "      <th class=\"col_heading level0 col7\" >promotion_last_5years</th>\n",
              "    </tr>\n",
              "  </thead>\n",
              "  <tbody>\n",
              "    <tr>\n",
              "      <th id=\"T_6ac67_level0_row0\" class=\"row_heading level0 row0\" >satisfaction_level</th>\n",
              "      <td id=\"T_6ac67_row0_col0\" class=\"data row0 col0\" >1.000000</td>\n",
              "      <td id=\"T_6ac67_row0_col1\" class=\"data row0 col1\" >0.061383</td>\n",
              "      <td id=\"T_6ac67_row0_col2\" class=\"data row0 col2\" >-0.314226</td>\n",
              "      <td id=\"T_6ac67_row0_col3\" class=\"data row0 col3\" >-0.111244</td>\n",
              "      <td id=\"T_6ac67_row0_col4\" class=\"data row0 col4\" >-0.277371</td>\n",
              "      <td id=\"T_6ac67_row0_col5\" class=\"data row0 col5\" >0.083261</td>\n",
              "      <td id=\"T_6ac67_row0_col6\" class=\"data row0 col6\" >-0.439525</td>\n",
              "      <td id=\"T_6ac67_row0_col7\" class=\"data row0 col7\" >0.032689</td>\n",
              "    </tr>\n",
              "    <tr>\n",
              "      <th id=\"T_6ac67_level0_row1\" class=\"row_heading level0 row1\" >last_evaluation</th>\n",
              "      <td id=\"T_6ac67_row1_col0\" class=\"data row1 col0\" >0.061383</td>\n",
              "      <td id=\"T_6ac67_row1_col1\" class=\"data row1 col1\" >1.000000</td>\n",
              "      <td id=\"T_6ac67_row1_col2\" class=\"data row1 col2\" >0.429779</td>\n",
              "      <td id=\"T_6ac67_row1_col3\" class=\"data row1 col3\" >0.342252</td>\n",
              "      <td id=\"T_6ac67_row1_col4\" class=\"data row1 col4\" >0.130160</td>\n",
              "      <td id=\"T_6ac67_row1_col5\" class=\"data row1 col5\" >-0.032236</td>\n",
              "      <td id=\"T_6ac67_row1_col6\" class=\"data row1 col6\" >-0.128243</td>\n",
              "      <td id=\"T_6ac67_row1_col7\" class=\"data row1 col7\" >-0.072830</td>\n",
              "    </tr>\n",
              "    <tr>\n",
              "      <th id=\"T_6ac67_level0_row2\" class=\"row_heading level0 row2\" >number_project</th>\n",
              "      <td id=\"T_6ac67_row2_col0\" class=\"data row2 col0\" >-0.314226</td>\n",
              "      <td id=\"T_6ac67_row2_col1\" class=\"data row2 col1\" >0.429779</td>\n",
              "      <td id=\"T_6ac67_row2_col2\" class=\"data row2 col2\" >1.000000</td>\n",
              "      <td id=\"T_6ac67_row2_col3\" class=\"data row2 col3\" >0.486269</td>\n",
              "      <td id=\"T_6ac67_row2_col4\" class=\"data row2 col4\" >0.250349</td>\n",
              "      <td id=\"T_6ac67_row2_col5\" class=\"data row2 col5\" >-0.038213</td>\n",
              "      <td id=\"T_6ac67_row2_col6\" class=\"data row2 col6\" >-0.060181</td>\n",
              "      <td id=\"T_6ac67_row2_col7\" class=\"data row2 col7\" >-0.029874</td>\n",
              "    </tr>\n",
              "    <tr>\n",
              "      <th id=\"T_6ac67_level0_row3\" class=\"row_heading level0 row3\" >average_montly_hours</th>\n",
              "      <td id=\"T_6ac67_row3_col0\" class=\"data row3 col0\" >-0.111244</td>\n",
              "      <td id=\"T_6ac67_row3_col1\" class=\"data row3 col1\" >0.342252</td>\n",
              "      <td id=\"T_6ac67_row3_col2\" class=\"data row3 col2\" >0.486269</td>\n",
              "      <td id=\"T_6ac67_row3_col3\" class=\"data row3 col3\" >1.000000</td>\n",
              "      <td id=\"T_6ac67_row3_col4\" class=\"data row3 col4\" >0.175689</td>\n",
              "      <td id=\"T_6ac67_row3_col5\" class=\"data row3 col5\" >0.003994</td>\n",
              "      <td id=\"T_6ac67_row3_col6\" class=\"data row3 col6\" >-0.051714</td>\n",
              "      <td id=\"T_6ac67_row3_col7\" class=\"data row3 col7\" >0.047996</td>\n",
              "    </tr>\n",
              "    <tr>\n",
              "      <th id=\"T_6ac67_level0_row4\" class=\"row_heading level0 row4\" >time_spend_company</th>\n",
              "      <td id=\"T_6ac67_row4_col0\" class=\"data row4 col0\" >-0.277371</td>\n",
              "      <td id=\"T_6ac67_row4_col1\" class=\"data row4 col1\" >0.130160</td>\n",
              "      <td id=\"T_6ac67_row4_col2\" class=\"data row4 col2\" >0.250349</td>\n",
              "      <td id=\"T_6ac67_row4_col3\" class=\"data row4 col3\" >0.175689</td>\n",
              "      <td id=\"T_6ac67_row4_col4\" class=\"data row4 col4\" >1.000000</td>\n",
              "      <td id=\"T_6ac67_row4_col5\" class=\"data row4 col5\" >-0.070942</td>\n",
              "      <td id=\"T_6ac67_row4_col6\" class=\"data row4 col6\" >0.271301</td>\n",
              "      <td id=\"T_6ac67_row4_col7\" class=\"data row4 col7\" >0.172595</td>\n",
              "    </tr>\n",
              "    <tr>\n",
              "      <th id=\"T_6ac67_level0_row5\" class=\"row_heading level0 row5\" >Work_accident</th>\n",
              "      <td id=\"T_6ac67_row5_col0\" class=\"data row5 col0\" >0.083261</td>\n",
              "      <td id=\"T_6ac67_row5_col1\" class=\"data row5 col1\" >-0.032236</td>\n",
              "      <td id=\"T_6ac67_row5_col2\" class=\"data row5 col2\" >-0.038213</td>\n",
              "      <td id=\"T_6ac67_row5_col3\" class=\"data row5 col3\" >0.003994</td>\n",
              "      <td id=\"T_6ac67_row5_col4\" class=\"data row5 col4\" >-0.070942</td>\n",
              "      <td id=\"T_6ac67_row5_col5\" class=\"data row5 col5\" >1.000000</td>\n",
              "      <td id=\"T_6ac67_row5_col6\" class=\"data row5 col6\" >-0.172946</td>\n",
              "      <td id=\"T_6ac67_row5_col7\" class=\"data row5 col7\" >0.094155</td>\n",
              "    </tr>\n",
              "    <tr>\n",
              "      <th id=\"T_6ac67_level0_row6\" class=\"row_heading level0 row6\" >left</th>\n",
              "      <td id=\"T_6ac67_row6_col0\" class=\"data row6 col0\" >-0.439525</td>\n",
              "      <td id=\"T_6ac67_row6_col1\" class=\"data row6 col1\" >-0.128243</td>\n",
              "      <td id=\"T_6ac67_row6_col2\" class=\"data row6 col2\" >-0.060181</td>\n",
              "      <td id=\"T_6ac67_row6_col3\" class=\"data row6 col3\" >-0.051714</td>\n",
              "      <td id=\"T_6ac67_row6_col4\" class=\"data row6 col4\" >0.271301</td>\n",
              "      <td id=\"T_6ac67_row6_col5\" class=\"data row6 col5\" >-0.172946</td>\n",
              "      <td id=\"T_6ac67_row6_col6\" class=\"data row6 col6\" >1.000000</td>\n",
              "      <td id=\"T_6ac67_row6_col7\" class=\"data row6 col7\" >-0.092200</td>\n",
              "    </tr>\n",
              "    <tr>\n",
              "      <th id=\"T_6ac67_level0_row7\" class=\"row_heading level0 row7\" >promotion_last_5years</th>\n",
              "      <td id=\"T_6ac67_row7_col0\" class=\"data row7 col0\" >0.032689</td>\n",
              "      <td id=\"T_6ac67_row7_col1\" class=\"data row7 col1\" >-0.072830</td>\n",
              "      <td id=\"T_6ac67_row7_col2\" class=\"data row7 col2\" >-0.029874</td>\n",
              "      <td id=\"T_6ac67_row7_col3\" class=\"data row7 col3\" >0.047996</td>\n",
              "      <td id=\"T_6ac67_row7_col4\" class=\"data row7 col4\" >0.172595</td>\n",
              "      <td id=\"T_6ac67_row7_col5\" class=\"data row7 col5\" >0.094155</td>\n",
              "      <td id=\"T_6ac67_row7_col6\" class=\"data row7 col6\" >-0.092200</td>\n",
              "      <td id=\"T_6ac67_row7_col7\" class=\"data row7 col7\" >1.000000</td>\n",
              "    </tr>\n",
              "  </tbody>\n",
              "</table>\n"
            ]
          },
          "metadata": {},
          "execution_count": 272
        }
      ]
    },
    {
      "cell_type": "markdown",
      "source": [
        "Everything is fine, ***there is no multicollinearity problem***.\n",
        "\n",
        "Now when all data is prepared, we can transfrom our one categorical variable **\"salary\"** into the dummy one. The base will be *low salary*"
      ],
      "metadata": {
        "id": "-PaqBl9B5g1o"
      }
    },
    {
      "cell_type": "code",
      "source": [
        "turnover1 = pd.get_dummies(turnover1)\n",
        "del turnover1['salary_low']"
      ],
      "metadata": {
        "id": "oCPtDEeLGCKL"
      },
      "execution_count": 273,
      "outputs": []
    },
    {
      "cell_type": "markdown",
      "source": [
        "Final look at the data before building a model:"
      ],
      "metadata": {
        "id": "aW0REND3ET-C"
      }
    },
    {
      "cell_type": "code",
      "source": [
        "turnover1.head()"
      ],
      "metadata": {
        "colab": {
          "base_uri": "https://localhost:8080/",
          "height": 237
        },
        "id": "HgY-hT2kGEvT",
        "outputId": "2d0a2967-7547-4b2a-c8f3-2478a99a6b08"
      },
      "execution_count": 274,
      "outputs": [
        {
          "output_type": "execute_result",
          "data": {
            "text/plain": [
              "       satisfaction_level  last_evaluation  number_project  \\\n",
              "index                                                        \n",
              "31              -0.798508        -0.562119               2   \n",
              "32              -0.916291        -0.673345               2   \n",
              "33              -0.798508        -0.597837               2   \n",
              "34              -0.174353        -0.139262               4   \n",
              "108             -0.342490        -0.139262               3   \n",
              "\n",
              "       average_montly_hours  time_spend_company  Work_accident  left  \\\n",
              "index                                                                  \n",
              "31                 4.897840            1.098612              0     1   \n",
              "32                 4.976734            1.098612              0     1   \n",
              "33                 4.941642            1.098612              0     1   \n",
              "34                 5.505332            1.791759              0     1   \n",
              "108                5.176150            1.386294              0     1   \n",
              "\n",
              "       promotion_last_5years  salary_medium  salary_high  \n",
              "index                                                     \n",
              "31                         0              0            0  \n",
              "32                         0              0            0  \n",
              "33                         0              0            0  \n",
              "34                         0              0            0  \n",
              "108                        0              1            0  "
            ],
            "text/html": [
              "\n",
              "  <div id=\"df-fa8cbcdf-28e8-432a-b5a9-7798deb8fde7\">\n",
              "    <div class=\"colab-df-container\">\n",
              "      <div>\n",
              "<style scoped>\n",
              "    .dataframe tbody tr th:only-of-type {\n",
              "        vertical-align: middle;\n",
              "    }\n",
              "\n",
              "    .dataframe tbody tr th {\n",
              "        vertical-align: top;\n",
              "    }\n",
              "\n",
              "    .dataframe thead th {\n",
              "        text-align: right;\n",
              "    }\n",
              "</style>\n",
              "<table border=\"1\" class=\"dataframe\">\n",
              "  <thead>\n",
              "    <tr style=\"text-align: right;\">\n",
              "      <th></th>\n",
              "      <th>satisfaction_level</th>\n",
              "      <th>last_evaluation</th>\n",
              "      <th>number_project</th>\n",
              "      <th>average_montly_hours</th>\n",
              "      <th>time_spend_company</th>\n",
              "      <th>Work_accident</th>\n",
              "      <th>left</th>\n",
              "      <th>promotion_last_5years</th>\n",
              "      <th>salary_medium</th>\n",
              "      <th>salary_high</th>\n",
              "    </tr>\n",
              "    <tr>\n",
              "      <th>index</th>\n",
              "      <th></th>\n",
              "      <th></th>\n",
              "      <th></th>\n",
              "      <th></th>\n",
              "      <th></th>\n",
              "      <th></th>\n",
              "      <th></th>\n",
              "      <th></th>\n",
              "      <th></th>\n",
              "      <th></th>\n",
              "    </tr>\n",
              "  </thead>\n",
              "  <tbody>\n",
              "    <tr>\n",
              "      <th>31</th>\n",
              "      <td>-0.798508</td>\n",
              "      <td>-0.562119</td>\n",
              "      <td>2</td>\n",
              "      <td>4.897840</td>\n",
              "      <td>1.098612</td>\n",
              "      <td>0</td>\n",
              "      <td>1</td>\n",
              "      <td>0</td>\n",
              "      <td>0</td>\n",
              "      <td>0</td>\n",
              "    </tr>\n",
              "    <tr>\n",
              "      <th>32</th>\n",
              "      <td>-0.916291</td>\n",
              "      <td>-0.673345</td>\n",
              "      <td>2</td>\n",
              "      <td>4.976734</td>\n",
              "      <td>1.098612</td>\n",
              "      <td>0</td>\n",
              "      <td>1</td>\n",
              "      <td>0</td>\n",
              "      <td>0</td>\n",
              "      <td>0</td>\n",
              "    </tr>\n",
              "    <tr>\n",
              "      <th>33</th>\n",
              "      <td>-0.798508</td>\n",
              "      <td>-0.597837</td>\n",
              "      <td>2</td>\n",
              "      <td>4.941642</td>\n",
              "      <td>1.098612</td>\n",
              "      <td>0</td>\n",
              "      <td>1</td>\n",
              "      <td>0</td>\n",
              "      <td>0</td>\n",
              "      <td>0</td>\n",
              "    </tr>\n",
              "    <tr>\n",
              "      <th>34</th>\n",
              "      <td>-0.174353</td>\n",
              "      <td>-0.139262</td>\n",
              "      <td>4</td>\n",
              "      <td>5.505332</td>\n",
              "      <td>1.791759</td>\n",
              "      <td>0</td>\n",
              "      <td>1</td>\n",
              "      <td>0</td>\n",
              "      <td>0</td>\n",
              "      <td>0</td>\n",
              "    </tr>\n",
              "    <tr>\n",
              "      <th>108</th>\n",
              "      <td>-0.342490</td>\n",
              "      <td>-0.139262</td>\n",
              "      <td>3</td>\n",
              "      <td>5.176150</td>\n",
              "      <td>1.386294</td>\n",
              "      <td>0</td>\n",
              "      <td>1</td>\n",
              "      <td>0</td>\n",
              "      <td>1</td>\n",
              "      <td>0</td>\n",
              "    </tr>\n",
              "  </tbody>\n",
              "</table>\n",
              "</div>\n",
              "      <button class=\"colab-df-convert\" onclick=\"convertToInteractive('df-fa8cbcdf-28e8-432a-b5a9-7798deb8fde7')\"\n",
              "              title=\"Convert this dataframe to an interactive table.\"\n",
              "              style=\"display:none;\">\n",
              "        \n",
              "  <svg xmlns=\"http://www.w3.org/2000/svg\" height=\"24px\"viewBox=\"0 0 24 24\"\n",
              "       width=\"24px\">\n",
              "    <path d=\"M0 0h24v24H0V0z\" fill=\"none\"/>\n",
              "    <path d=\"M18.56 5.44l.94 2.06.94-2.06 2.06-.94-2.06-.94-.94-2.06-.94 2.06-2.06.94zm-11 1L8.5 8.5l.94-2.06 2.06-.94-2.06-.94L8.5 2.5l-.94 2.06-2.06.94zm10 10l.94 2.06.94-2.06 2.06-.94-2.06-.94-.94-2.06-.94 2.06-2.06.94z\"/><path d=\"M17.41 7.96l-1.37-1.37c-.4-.4-.92-.59-1.43-.59-.52 0-1.04.2-1.43.59L10.3 9.45l-7.72 7.72c-.78.78-.78 2.05 0 2.83L4 21.41c.39.39.9.59 1.41.59.51 0 1.02-.2 1.41-.59l7.78-7.78 2.81-2.81c.8-.78.8-2.07 0-2.86zM5.41 20L4 18.59l7.72-7.72 1.47 1.35L5.41 20z\"/>\n",
              "  </svg>\n",
              "      </button>\n",
              "      \n",
              "  <style>\n",
              "    .colab-df-container {\n",
              "      display:flex;\n",
              "      flex-wrap:wrap;\n",
              "      gap: 12px;\n",
              "    }\n",
              "\n",
              "    .colab-df-convert {\n",
              "      background-color: #E8F0FE;\n",
              "      border: none;\n",
              "      border-radius: 50%;\n",
              "      cursor: pointer;\n",
              "      display: none;\n",
              "      fill: #1967D2;\n",
              "      height: 32px;\n",
              "      padding: 0 0 0 0;\n",
              "      width: 32px;\n",
              "    }\n",
              "\n",
              "    .colab-df-convert:hover {\n",
              "      background-color: #E2EBFA;\n",
              "      box-shadow: 0px 1px 2px rgba(60, 64, 67, 0.3), 0px 1px 3px 1px rgba(60, 64, 67, 0.15);\n",
              "      fill: #174EA6;\n",
              "    }\n",
              "\n",
              "    [theme=dark] .colab-df-convert {\n",
              "      background-color: #3B4455;\n",
              "      fill: #D2E3FC;\n",
              "    }\n",
              "\n",
              "    [theme=dark] .colab-df-convert:hover {\n",
              "      background-color: #434B5C;\n",
              "      box-shadow: 0px 1px 3px 1px rgba(0, 0, 0, 0.15);\n",
              "      filter: drop-shadow(0px 1px 2px rgba(0, 0, 0, 0.3));\n",
              "      fill: #FFFFFF;\n",
              "    }\n",
              "  </style>\n",
              "\n",
              "      <script>\n",
              "        const buttonEl =\n",
              "          document.querySelector('#df-fa8cbcdf-28e8-432a-b5a9-7798deb8fde7 button.colab-df-convert');\n",
              "        buttonEl.style.display =\n",
              "          google.colab.kernel.accessAllowed ? 'block' : 'none';\n",
              "\n",
              "        async function convertToInteractive(key) {\n",
              "          const element = document.querySelector('#df-fa8cbcdf-28e8-432a-b5a9-7798deb8fde7');\n",
              "          const dataTable =\n",
              "            await google.colab.kernel.invokeFunction('convertToInteractive',\n",
              "                                                     [key], {});\n",
              "          if (!dataTable) return;\n",
              "\n",
              "          const docLinkHtml = 'Like what you see? Visit the ' +\n",
              "            '<a target=\"_blank\" href=https://colab.research.google.com/notebooks/data_table.ipynb>data table notebook</a>'\n",
              "            + ' to learn more about interactive tables.';\n",
              "          element.innerHTML = '';\n",
              "          dataTable['output_type'] = 'display_data';\n",
              "          await google.colab.output.renderOutput(dataTable, element);\n",
              "          const docLink = document.createElement('div');\n",
              "          docLink.innerHTML = docLinkHtml;\n",
              "          element.appendChild(docLink);\n",
              "        }\n",
              "      </script>\n",
              "    </div>\n",
              "  </div>\n",
              "  "
            ]
          },
          "metadata": {},
          "execution_count": 274
        }
      ]
    },
    {
      "cell_type": "markdown",
      "source": [
        "So, our model will be the following:\n",
        "\n",
        "*(left) = b0 + b1 * (satisfaction_level) = b2 * (last_evaluation) + b3 * (number_project) + b4 * (average_montly_hours) + b5 * (time_spend_company) + b6 * (Work_accident) + b7 * (promotion_last_5years) + b8 * (salary)*"
      ],
      "metadata": {
        "id": "B7mubOJFEkwh"
      }
    },
    {
      "cell_type": "markdown",
      "source": [
        "We will divide our sample on two parts: **train** and **test samples** *(20% and 80% respectively)*"
      ],
      "metadata": {
        "id": "pgEX96XjFRPr"
      }
    },
    {
      "cell_type": "code",
      "source": [
        "X = turnover1.loc[:, turnover1.columns != 'left']\n",
        "y = turnover1.loc[:, turnover1.columns == 'left']\n",
        "\n",
        "X_train, X_test, y_train, y_test = train_test_split(X, y, test_size=0.2, random_state=55)"
      ],
      "metadata": {
        "id": "1HXYGOPBn3Vw"
      },
      "execution_count": 275,
      "outputs": []
    },
    {
      "cell_type": "code",
      "source": [
        "# instantiate the model (using the default parameters)\n",
        "logreg = LogisticRegression()\n",
        "\n",
        "# fit the model with data\n",
        "logreg = logreg.fit(X_train,y_train)\n",
        "\n",
        "# making prdictions\n",
        "y_pred=logreg.predict(X_test)\n",
        "\n",
        "# results\n",
        "print(\"Training set score: {:.3f}\".format(logreg.score(X_train,y_train)))\n",
        "print(\"Test set score: {:.3f}\".format(logreg.score(X_test,y_test)))"
      ],
      "metadata": {
        "colab": {
          "base_uri": "https://localhost:8080/"
        },
        "id": "YHm1GZcJsChD",
        "outputId": "45e5ea8a-0696-4340-f576-ee670055e866"
      },
      "execution_count": 276,
      "outputs": [
        {
          "output_type": "stream",
          "name": "stdout",
          "text": [
            "Training set score: 0.844\n",
            "Test set score: 0.811\n"
          ]
        }
      ]
    },
    {
      "cell_type": "markdown",
      "source": [
        "We can say that both train and test samples gave us a **high accuracy**, that's why we can say that this model is **high-quality** one."
      ],
      "metadata": {
        "id": "IMAHrMj1HI4r"
      }
    },
    {
      "cell_type": "markdown",
      "source": [
        "Let's look at **confusion matrix** for this model:"
      ],
      "metadata": {
        "id": "tbkIg1ayFujE"
      }
    },
    {
      "cell_type": "code",
      "source": [
        "# import the metrics class\n",
        "\n",
        "cnf_matrix = metrics.confusion_matrix(y_test, y_pred)\n",
        "cnf_matrix\n",
        "\n",
        "class_names=[0,1] # name  of classes\n",
        "fig, ax = plt.subplots()\n",
        "tick_marks = np.arange(len(class_names))\n",
        "plt.xticks(tick_marks, class_names)\n",
        "plt.yticks(tick_marks, class_names)\n",
        "# create heatmap\n",
        "sns.heatmap(pd.DataFrame(cnf_matrix), annot=True, cmap='Blues',fmt='g')\n",
        "ax.xaxis.set_label_position(\"top\")\n",
        "plt.tight_layout()\n",
        "plt.title('Confusion matrix', y=1.1)\n",
        "plt.ylabel('Actual label')\n",
        "plt.xlabel('Predicted label')"
      ],
      "metadata": {
        "colab": {
          "base_uri": "https://localhost:8080/",
          "height": 342
        },
        "id": "vO7XLGP9sbUP",
        "outputId": "d3ac06bc-6bc4-4970-bafd-1cd782681b50"
      },
      "execution_count": 277,
      "outputs": [
        {
          "output_type": "execute_result",
          "data": {
            "text/plain": [
              "Text(0.5, 257.44, 'Predicted label')"
            ]
          },
          "metadata": {},
          "execution_count": 277
        },
        {
          "output_type": "display_data",
          "data": {
            "text/plain": [
              "<Figure size 432x288 with 2 Axes>"
            ],
            "image/png": "[encoded data removed]"
          },
          "metadata": {
            "needs_background": "light"
          }
        }
      ]
    },
    {
      "cell_type": "markdown",
      "source": [
        "Looks like we have a pretty good predictions: our model have *detected 29 employees, who wanted to leave the company*. However, it's important to look at other metrics"
      ],
      "metadata": {
        "id": "4ghjbxNIF0J6"
      }
    },
    {
      "cell_type": "code",
      "source": [
        "print(\"Accuracy:\",metrics.accuracy_score(y_test, y_pred))\n",
        "print(\"Precision:\",metrics.precision_score(y_test, y_pred))\n",
        "print(\"Recall:\",metrics.recall_score(y_test, y_pred))"
      ],
      "metadata": {
        "colab": {
          "base_uri": "https://localhost:8080/"
        },
        "id": "IpDvlJorsvTk",
        "outputId": "ef562d51-3f2c-4088-f15a-b273a19055a5"
      },
      "execution_count": 278,
      "outputs": [
        {
          "output_type": "stream",
          "name": "stdout",
          "text": [
            "Accuracy: 0.8108108108108109\n",
            "Precision: 0.6590909090909091\n",
            "Recall: 0.6904761904761905\n"
          ]
        }
      ]
    },
    {
      "cell_type": "markdown",
      "source": [
        "Actually, we can conclude that the model is good according to Accuracy, Precision and Recall "
      ],
      "metadata": {
        "id": "FfVh40f4GRCG"
      }
    },
    {
      "cell_type": "markdown",
      "source": [
        "For logistic regression it's important to look at AUC curve. Usually AUC score = 1 represents perfect classifier, and AUC score = 0.5 represents a worthless classifier.\n"
      ],
      "metadata": {
        "id": "zB6SLSPFGfD4"
      }
    },
    {
      "cell_type": "code",
      "source": [
        "y_pred_proba = logreg.predict_proba(X_test)[::,1]\n",
        "fpr, tpr, _ = metrics.roc_curve(y_test,  y_pred_proba)\n",
        "auc = metrics.roc_auc_score(y_test, y_pred_proba)\n",
        "plt.plot(fpr,tpr,label=\"AUC = \"+str(auc), color = 'skyblue')\n",
        "plt.legend(loc=4)\n",
        "plt.show()"
      ],
      "metadata": {
        "colab": {
          "base_uri": "https://localhost:8080/",
          "height": 265
        },
        "id": "JAcxynZtsx_A",
        "outputId": "237ffdfd-8ddd-4267-8e80-254351e6975f"
      },
      "execution_count": 279,
      "outputs": [
        {
          "output_type": "display_data",
          "data": {
            "text/plain": [
              "<Figure size 432x288 with 1 Axes>"
            ],
            "image/png": "[encoded data removed]"
          },
          "metadata": {
            "needs_background": "light"
          }
        }
      ]
    },
    {
      "cell_type": "markdown",
      "source": [
        "In our case, it is equal **0.836225**, which is *high result*"
      ],
      "metadata": {
        "id": "U15ztrLr4KO0"
      }
    },
    {
      "cell_type": "markdown",
      "source": [
        "As we concluded, that our model have high quality, we can look at *the coefficients* closer:"
      ],
      "metadata": {
        "id": "F8ByuHVxHhc_"
      }
    },
    {
      "cell_type": "code",
      "source": [
        "logit_model=sm.Logit(y, X)\n",
        "result=logit_model.fit()\n",
        "print(result.summary())"
      ],
      "metadata": {
        "colab": {
          "base_uri": "https://localhost:8080/"
        },
        "id": "iUa-9q95Hu-L",
        "outputId": "978009fd-8920-43e7-b44e-a9dabc9f5e80"
      },
      "execution_count": 280,
      "outputs": [
        {
          "output_type": "stream",
          "name": "stdout",
          "text": [
            "Warning: Maximum number of iterations has been exceeded.\n",
            "         Current function value: 0.424119\n",
            "         Iterations: 35\n",
            "                           Logit Regression Results                           \n",
            "==============================================================================\n",
            "Dep. Variable:                   left   No. Observations:                  739\n",
            "Model:                          Logit   Df Residuals:                      730\n",
            "Method:                           MLE   Df Model:                            8\n",
            "Date:                Thu, 31 Mar 2022   Pseudo R-squ.:                  0.2966\n",
            "Time:                        17:47:46   Log-Likelihood:                -313.42\n",
            "converged:                      False   LL-Null:                       -445.61\n",
            "Covariance Type:            nonrobust   LLR p-value:                 1.546e-52\n",
            "=========================================================================================\n",
            "                            coef    std err          z      P>|z|      [0.025      0.975]\n",
            "-----------------------------------------------------------------------------------------\n",
            "satisfaction_level       -1.9101      0.190    -10.043      0.000      -2.283      -1.537\n",
            "last_evaluation          -0.0978      0.450     -0.217      0.828      -0.980       0.784\n",
            "number_project           -0.6291      0.110     -5.703      0.000      -0.845      -0.413\n",
            "average_montly_hours     -0.5791      0.120     -4.808      0.000      -0.815      -0.343\n",
            "time_spend_company        2.6486      0.401      6.607      0.000       1.863       3.434\n",
            "Work_accident            -1.9651      0.492     -3.992      0.000      -2.930      -1.000\n",
            "promotion_last_5years   -28.8336   3.75e+05  -7.69e-05      1.000   -7.35e+05    7.35e+05\n",
            "salary_medium            -0.0910      0.204     -0.445      0.656      -0.492       0.310\n",
            "salary_high              -0.7691      0.542     -1.420      0.156      -1.831       0.292\n",
            "=========================================================================================\n"
          ]
        }
      ]
    },
    {
      "cell_type": "markdown",
      "source": [
        "Conlusions:\n",
        "\n",
        "*   **Satisfaction level**: *sigificant result* -- the higher satisfaction_level the lower probability of leaving\n",
        "*   **Number of projects**: *sigificant result* -- more project HR-specialist has the lower probability of his leaving. This may be due to the fact that with a heavy workload of projects, an HR specialist gets a variety of experience and does not have time to think about leaving work.\n",
        "*   **Average montly hours**: *sigificant result* -- the bigger amount of time specialist spend on the work the lower probability of his leaving. The explanation may be the previous fact.\n",
        "*   **Time spend in the company**: *sigificant result* -- the greater experience of work specialist have the higher probability of his leaving. This may be due to the fact that with a lot of experience in the company, the HR specialist becomes bored, he burns out and strives to get a new work experience. Or, with the greatest work experience, HR becomes more and more attractive in the labor market and more companies want to hunt him for themselves: more work experience - more favorable conditions are offered by other companies, due to which employees can leave their current place of work\n",
        "*   **Work accident**: *sigificant result* -- the presence of some accidents at the work decreases the probability of leaving. Perhaps this is due to the fact that such situations bring the employee and the company closer, he becomes more loyal, because he and the company have a joint experience, he feels his contribution.\n",
        "*   **Last evalution**, **Promotion** and **Salary**: *insigificant results* -- we need to observe it once more in other data\n",
        "\n",
        "\n",
        "\n",
        "\n",
        "\n",
        "\n"
      ],
      "metadata": {
        "id": "BiIEj0KmHvz3"
      }
    },
    {
      "cell_type": "markdown",
      "source": [
        "***Recommendations for companies***:\n",
        "\n",
        "1.   Increase the level of employee satisfaction: for example, various bonuses (insurance, compensations, discounts for employees), pleasant atmosphere in the office (free cafe, coffee point, meeting rooms), good working conditions (equipment, high-quality software)\n",
        "2.   Give HR specialists a variety of projects and keep them busy at work. In case of a temporary small load, fill working hours, for example, with trainings\n",
        "3.   Support HR professionals who have been with the company for a long time with up-to-date wages in order to remain attractive to them in the employers' market. Show the specialist that the company appreciates his loyalty. You can give shares of the company or merch in order to motivate the employee to stay in the company\n",
        "\n",
        "\n",
        "\n",
        "\n"
      ],
      "metadata": {
        "id": "enGLKgIULibW"
      }
    }
  ]
}